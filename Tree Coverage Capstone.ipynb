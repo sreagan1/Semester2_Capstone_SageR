{
 "cells": [
  {
   "cell_type": "markdown",
   "metadata": {},
   "source": [
    "Import the libraries necesary for this model."
   ]
  },
  {
   "cell_type": "code",
   "execution_count": 22,
   "metadata": {},
   "outputs": [],
   "source": [
    "#import libraries\n",
    "import numpy as np \n",
    "import pandas as pd \n",
    "import matplotlib.pyplot as plt\n",
    "from sklearn.model_selection import train_test_split\n",
    "from sklearn.tree import DecisionTreeClassifier \n",
    "from sklearn.metrics import precision_score\n",
    "from sklearn.metrics import recall_score\n",
    "from sklearn.metrics import accuracy_score\n",
    "from sklearn.metrics import f1_score\n",
    "from sklearn import tree\n",
    "from sklearn.metrics import confusion_matrix\n",
    "from sklearn.metrics import plot_confusion_matrix\n",
    "from sklearn.model_selection import GridSearchCV"
   ]
  },
  {
   "cell_type": "markdown",
   "metadata": {},
   "source": [
    "Import the data file into a dataframe and examine the features of the dataframe. "
   ]
  },
  {
   "cell_type": "code",
   "execution_count": 2,
   "metadata": {},
   "outputs": [],
   "source": [
    "#load the csv file into a dataframe\n",
    "forest_info = pd.read_csv('covtype.csv')"
   ]
  },
  {
   "cell_type": "code",
   "execution_count": 3,
   "metadata": {},
   "outputs": [
    {
     "data": {
      "text/html": [
       "<div>\n",
       "<style scoped>\n",
       "    .dataframe tbody tr th:only-of-type {\n",
       "        vertical-align: middle;\n",
       "    }\n",
       "\n",
       "    .dataframe tbody tr th {\n",
       "        vertical-align: top;\n",
       "    }\n",
       "\n",
       "    .dataframe thead th {\n",
       "        text-align: right;\n",
       "    }\n",
       "</style>\n",
       "<table border=\"1\" class=\"dataframe\">\n",
       "  <thead>\n",
       "    <tr style=\"text-align: right;\">\n",
       "      <th></th>\n",
       "      <th>Elevation</th>\n",
       "      <th>Aspect</th>\n",
       "      <th>Slope</th>\n",
       "      <th>Horizontal_Distance_To_Hydrology</th>\n",
       "      <th>Vertical_Distance_To_Hydrology</th>\n",
       "      <th>Horizontal_Distance_To_Roadways</th>\n",
       "      <th>Hillshade_9am</th>\n",
       "      <th>Hillshade_Noon</th>\n",
       "      <th>Hillshade_3pm</th>\n",
       "      <th>Horizontal_Distance_To_Fire_Points</th>\n",
       "      <th>...</th>\n",
       "      <th>Soil_Type32</th>\n",
       "      <th>Soil_Type33</th>\n",
       "      <th>Soil_Type34</th>\n",
       "      <th>Soil_Type35</th>\n",
       "      <th>Soil_Type36</th>\n",
       "      <th>Soil_Type37</th>\n",
       "      <th>Soil_Type38</th>\n",
       "      <th>Soil_Type39</th>\n",
       "      <th>Soil_Type40</th>\n",
       "      <th>Cover_Type</th>\n",
       "    </tr>\n",
       "  </thead>\n",
       "  <tbody>\n",
       "    <tr>\n",
       "      <th>0</th>\n",
       "      <td>2596</td>\n",
       "      <td>51</td>\n",
       "      <td>3</td>\n",
       "      <td>258</td>\n",
       "      <td>0</td>\n",
       "      <td>510</td>\n",
       "      <td>221</td>\n",
       "      <td>232</td>\n",
       "      <td>148</td>\n",
       "      <td>6279</td>\n",
       "      <td>...</td>\n",
       "      <td>0</td>\n",
       "      <td>0</td>\n",
       "      <td>0</td>\n",
       "      <td>0</td>\n",
       "      <td>0</td>\n",
       "      <td>0</td>\n",
       "      <td>0</td>\n",
       "      <td>0</td>\n",
       "      <td>0</td>\n",
       "      <td>5</td>\n",
       "    </tr>\n",
       "    <tr>\n",
       "      <th>1</th>\n",
       "      <td>2590</td>\n",
       "      <td>56</td>\n",
       "      <td>2</td>\n",
       "      <td>212</td>\n",
       "      <td>-6</td>\n",
       "      <td>390</td>\n",
       "      <td>220</td>\n",
       "      <td>235</td>\n",
       "      <td>151</td>\n",
       "      <td>6225</td>\n",
       "      <td>...</td>\n",
       "      <td>0</td>\n",
       "      <td>0</td>\n",
       "      <td>0</td>\n",
       "      <td>0</td>\n",
       "      <td>0</td>\n",
       "      <td>0</td>\n",
       "      <td>0</td>\n",
       "      <td>0</td>\n",
       "      <td>0</td>\n",
       "      <td>5</td>\n",
       "    </tr>\n",
       "    <tr>\n",
       "      <th>2</th>\n",
       "      <td>2804</td>\n",
       "      <td>139</td>\n",
       "      <td>9</td>\n",
       "      <td>268</td>\n",
       "      <td>65</td>\n",
       "      <td>3180</td>\n",
       "      <td>234</td>\n",
       "      <td>238</td>\n",
       "      <td>135</td>\n",
       "      <td>6121</td>\n",
       "      <td>...</td>\n",
       "      <td>0</td>\n",
       "      <td>0</td>\n",
       "      <td>0</td>\n",
       "      <td>0</td>\n",
       "      <td>0</td>\n",
       "      <td>0</td>\n",
       "      <td>0</td>\n",
       "      <td>0</td>\n",
       "      <td>0</td>\n",
       "      <td>2</td>\n",
       "    </tr>\n",
       "    <tr>\n",
       "      <th>3</th>\n",
       "      <td>2785</td>\n",
       "      <td>155</td>\n",
       "      <td>18</td>\n",
       "      <td>242</td>\n",
       "      <td>118</td>\n",
       "      <td>3090</td>\n",
       "      <td>238</td>\n",
       "      <td>238</td>\n",
       "      <td>122</td>\n",
       "      <td>6211</td>\n",
       "      <td>...</td>\n",
       "      <td>0</td>\n",
       "      <td>0</td>\n",
       "      <td>0</td>\n",
       "      <td>0</td>\n",
       "      <td>0</td>\n",
       "      <td>0</td>\n",
       "      <td>0</td>\n",
       "      <td>0</td>\n",
       "      <td>0</td>\n",
       "      <td>2</td>\n",
       "    </tr>\n",
       "    <tr>\n",
       "      <th>4</th>\n",
       "      <td>2595</td>\n",
       "      <td>45</td>\n",
       "      <td>2</td>\n",
       "      <td>153</td>\n",
       "      <td>-1</td>\n",
       "      <td>391</td>\n",
       "      <td>220</td>\n",
       "      <td>234</td>\n",
       "      <td>150</td>\n",
       "      <td>6172</td>\n",
       "      <td>...</td>\n",
       "      <td>0</td>\n",
       "      <td>0</td>\n",
       "      <td>0</td>\n",
       "      <td>0</td>\n",
       "      <td>0</td>\n",
       "      <td>0</td>\n",
       "      <td>0</td>\n",
       "      <td>0</td>\n",
       "      <td>0</td>\n",
       "      <td>5</td>\n",
       "    </tr>\n",
       "  </tbody>\n",
       "</table>\n",
       "<p>5 rows × 55 columns</p>\n",
       "</div>"
      ],
      "text/plain": [
       "   Elevation  Aspect  Slope  Horizontal_Distance_To_Hydrology  \\\n",
       "0       2596      51      3                               258   \n",
       "1       2590      56      2                               212   \n",
       "2       2804     139      9                               268   \n",
       "3       2785     155     18                               242   \n",
       "4       2595      45      2                               153   \n",
       "\n",
       "   Vertical_Distance_To_Hydrology  Horizontal_Distance_To_Roadways  \\\n",
       "0                               0                              510   \n",
       "1                              -6                              390   \n",
       "2                              65                             3180   \n",
       "3                             118                             3090   \n",
       "4                              -1                              391   \n",
       "\n",
       "   Hillshade_9am  Hillshade_Noon  Hillshade_3pm  \\\n",
       "0            221             232            148   \n",
       "1            220             235            151   \n",
       "2            234             238            135   \n",
       "3            238             238            122   \n",
       "4            220             234            150   \n",
       "\n",
       "   Horizontal_Distance_To_Fire_Points  ...  Soil_Type32  Soil_Type33  \\\n",
       "0                                6279  ...            0            0   \n",
       "1                                6225  ...            0            0   \n",
       "2                                6121  ...            0            0   \n",
       "3                                6211  ...            0            0   \n",
       "4                                6172  ...            0            0   \n",
       "\n",
       "   Soil_Type34  Soil_Type35  Soil_Type36  Soil_Type37  Soil_Type38  \\\n",
       "0            0            0            0            0            0   \n",
       "1            0            0            0            0            0   \n",
       "2            0            0            0            0            0   \n",
       "3            0            0            0            0            0   \n",
       "4            0            0            0            0            0   \n",
       "\n",
       "   Soil_Type39  Soil_Type40  Cover_Type  \n",
       "0            0            0           5  \n",
       "1            0            0           5  \n",
       "2            0            0           2  \n",
       "3            0            0           2  \n",
       "4            0            0           5  \n",
       "\n",
       "[5 rows x 55 columns]"
      ]
     },
     "execution_count": 3,
     "metadata": {},
     "output_type": "execute_result"
    }
   ],
   "source": [
    "#print out top rows examine what is in the dataframe\n",
    "forest_info.head()"
   ]
  },
  {
   "cell_type": "code",
   "execution_count": 4,
   "metadata": {},
   "outputs": [
    {
     "name": "stdout",
     "output_type": "stream",
     "text": [
      "<class 'pandas.core.frame.DataFrame'>\n",
      "RangeIndex: 581012 entries, 0 to 581011\n",
      "Data columns (total 55 columns):\n",
      " #   Column                              Non-Null Count   Dtype\n",
      "---  ------                              --------------   -----\n",
      " 0   Elevation                           581012 non-null  int64\n",
      " 1   Aspect                              581012 non-null  int64\n",
      " 2   Slope                               581012 non-null  int64\n",
      " 3   Horizontal_Distance_To_Hydrology    581012 non-null  int64\n",
      " 4   Vertical_Distance_To_Hydrology      581012 non-null  int64\n",
      " 5   Horizontal_Distance_To_Roadways     581012 non-null  int64\n",
      " 6   Hillshade_9am                       581012 non-null  int64\n",
      " 7   Hillshade_Noon                      581012 non-null  int64\n",
      " 8   Hillshade_3pm                       581012 non-null  int64\n",
      " 9   Horizontal_Distance_To_Fire_Points  581012 non-null  int64\n",
      " 10  Wilderness_Area1                    581012 non-null  int64\n",
      " 11  Wilderness_Area2                    581012 non-null  int64\n",
      " 12  Wilderness_Area3                    581012 non-null  int64\n",
      " 13  Wilderness_Area4                    581012 non-null  int64\n",
      " 14  Soil_Type1                          581012 non-null  int64\n",
      " 15  Soil_Type2                          581012 non-null  int64\n",
      " 16  Soil_Type3                          581012 non-null  int64\n",
      " 17  Soil_Type4                          581012 non-null  int64\n",
      " 18  Soil_Type5                          581012 non-null  int64\n",
      " 19  Soil_Type6                          581012 non-null  int64\n",
      " 20  Soil_Type7                          581012 non-null  int64\n",
      " 21  Soil_Type8                          581012 non-null  int64\n",
      " 22  Soil_Type9                          581012 non-null  int64\n",
      " 23  Soil_Type10                         581012 non-null  int64\n",
      " 24  Soil_Type11                         581012 non-null  int64\n",
      " 25  Soil_Type12                         581012 non-null  int64\n",
      " 26  Soil_Type13                         581012 non-null  int64\n",
      " 27  Soil_Type14                         581012 non-null  int64\n",
      " 28  Soil_Type15                         581012 non-null  int64\n",
      " 29  Soil_Type16                         581012 non-null  int64\n",
      " 30  Soil_Type17                         581012 non-null  int64\n",
      " 31  Soil_Type18                         581012 non-null  int64\n",
      " 32  Soil_Type19                         581012 non-null  int64\n",
      " 33  Soil_Type20                         581012 non-null  int64\n",
      " 34  Soil_Type21                         581012 non-null  int64\n",
      " 35  Soil_Type22                         581012 non-null  int64\n",
      " 36  Soil_Type23                         581012 non-null  int64\n",
      " 37  Soil_Type24                         581012 non-null  int64\n",
      " 38  Soil_Type25                         581012 non-null  int64\n",
      " 39  Soil_Type26                         581012 non-null  int64\n",
      " 40  Soil_Type27                         581012 non-null  int64\n",
      " 41  Soil_Type28                         581012 non-null  int64\n",
      " 42  Soil_Type29                         581012 non-null  int64\n",
      " 43  Soil_Type30                         581012 non-null  int64\n",
      " 44  Soil_Type31                         581012 non-null  int64\n",
      " 45  Soil_Type32                         581012 non-null  int64\n",
      " 46  Soil_Type33                         581012 non-null  int64\n",
      " 47  Soil_Type34                         581012 non-null  int64\n",
      " 48  Soil_Type35                         581012 non-null  int64\n",
      " 49  Soil_Type36                         581012 non-null  int64\n",
      " 50  Soil_Type37                         581012 non-null  int64\n",
      " 51  Soil_Type38                         581012 non-null  int64\n",
      " 52  Soil_Type39                         581012 non-null  int64\n",
      " 53  Soil_Type40                         581012 non-null  int64\n",
      " 54  Cover_Type                          581012 non-null  int64\n",
      "dtypes: int64(55)\n",
      "memory usage: 243.8 MB\n"
     ]
    }
   ],
   "source": [
    "# check for null values, and if there is anything that has to be hot encoded\n",
    "forest_info.info()"
   ]
  },
  {
   "cell_type": "code",
   "execution_count": 5,
   "metadata": {},
   "outputs": [
    {
     "data": {
      "text/plain": [
       "(581012, 55)"
      ]
     },
     "execution_count": 5,
     "metadata": {},
     "output_type": "execute_result"
    }
   ],
   "source": [
    "# find the number of values and columns\n",
    "forest_info.shape"
   ]
  },
  {
   "cell_type": "code",
   "execution_count": 6,
   "metadata": {},
   "outputs": [
    {
     "data": {
      "text/plain": [
       "2    283301\n",
       "1    211840\n",
       "3     35754\n",
       "7     20510\n",
       "6     17367\n",
       "5      9493\n",
       "4      2747\n",
       "Name: Cover_Type, dtype: int64"
      ]
     },
     "execution_count": 6,
     "metadata": {},
     "output_type": "execute_result"
    }
   ],
   "source": [
    "# determine the values in the cover type column as that is the target variable\n",
    "forest_info['Cover_Type'].value_counts()"
   ]
  },
  {
   "cell_type": "markdown",
   "metadata": {},
   "source": [
    "Condense tree types 2, 3, 4, 5, 6, and 7 into a single class to fix the class imbalance and create a binary classification problem. "
   ]
  },
  {
   "cell_type": "code",
   "execution_count": 7,
   "metadata": {},
   "outputs": [],
   "source": [
    "# there is a large class imbalance. to fix this, change data to a binary classfication problem\n",
    "# wil determine if tree type is type 2 (Lodgepole Pine) or not, so change all other types to 0 value\n",
    "forest_info['Cover_Type'].replace(to_replace = 1, value = 0, inplace=True)\n",
    "forest_info['Cover_Type'].replace(to_replace = 3, value = 0, inplace=True)\n",
    "forest_info['Cover_Type'].replace(to_replace = 7, value = 0, inplace=True)\n",
    "forest_info['Cover_Type'].replace(to_replace = 6, value = 0, inplace=True)\n",
    "forest_info['Cover_Type'].replace(to_replace = 5, value = 0, inplace=True)\n",
    "forest_info['Cover_Type'].replace(to_replace = 4, value = 0, inplace=True)"
   ]
  },
  {
   "cell_type": "code",
   "execution_count": 8,
   "metadata": {},
   "outputs": [
    {
     "data": {
      "text/plain": [
       "0    297711\n",
       "2    283301\n",
       "Name: Cover_Type, dtype: int64"
      ]
     },
     "execution_count": 8,
     "metadata": {},
     "output_type": "execute_result"
    }
   ],
   "source": [
    "forest_info['Cover_Type'].value_counts()"
   ]
  },
  {
   "cell_type": "code",
   "execution_count": 9,
   "metadata": {},
   "outputs": [],
   "source": [
    "# for clarification, change type 2 tree (Lodgepole Pine) to be represented as type 1\n",
    "forest_info['Cover_Type'].replace(to_replace = 2, value = 1, inplace=True)"
   ]
  },
  {
   "cell_type": "code",
   "execution_count": 10,
   "metadata": {},
   "outputs": [
    {
     "data": {
      "text/plain": [
       "0    297711\n",
       "1    283301\n",
       "Name: Cover_Type, dtype: int64"
      ]
     },
     "execution_count": 10,
     "metadata": {},
     "output_type": "execute_result"
    }
   ],
   "source": [
    "forest_info['Cover_Type'].value_counts()"
   ]
  },
  {
   "cell_type": "markdown",
   "metadata": {},
   "source": [
    "Define X and y fetaures and split data into test and train sets. "
   ]
  },
  {
   "cell_type": "code",
   "execution_count": 11,
   "metadata": {},
   "outputs": [],
   "source": [
    "# data is now properly preprocessed, now we will define X and y features\n",
    "X = forest_info.drop('Cover_Type', axis=1)\n",
    "y = forest_info['Cover_Type']"
   ]
  },
  {
   "cell_type": "code",
   "execution_count": 12,
   "metadata": {},
   "outputs": [],
   "source": [
    "# create am 80/20 split for the test and train sets\n",
    "X_train, X_test, y_train, y_test = train_test_split(X, y, test_size = 0.2, random_state=10)"
   ]
  },
  {
   "cell_type": "markdown",
   "metadata": {},
   "source": [
    "train a basic model of the decision tree. "
   ]
  },
  {
   "cell_type": "code",
   "execution_count": 13,
   "metadata": {},
   "outputs": [],
   "source": [
    "# create a decision tree calssifier using entropy, then fit the the clasifier to the training data\n",
    "DTC = DecisionTreeClassifier(criterion = 'entropy')\n",
    "DT_model = DTC.fit(X_train, y_train)"
   ]
  },
  {
   "cell_type": "code",
   "execution_count": 14,
   "metadata": {},
   "outputs": [],
   "source": [
    "# use the trained decision tree to make predictions of the type of tree\n",
    "predict_y = DTC.predict(X_test)"
   ]
  },
  {
   "cell_type": "markdown",
   "metadata": {},
   "source": [
    "create a confusion matrix to determine the true positives and true negatives, also determine the evaluation metrics. "
   ]
  },
  {
   "cell_type": "code",
   "execution_count": 15,
   "metadata": {},
   "outputs": [
    {
     "name": "stdout",
     "output_type": "stream",
     "text": [
      "[[57169  2614]\n",
      " [ 2638 53782]]\n"
     ]
    }
   ],
   "source": [
    "# create a confusion matrix to determine the number of true positives, true negatives, false positives, and false negatives\n",
    "cm = (confusion_matrix(y_test, predict_y))\n",
    "print(cm)"
   ]
  },
  {
   "cell_type": "code",
   "execution_count": 16,
   "metadata": {},
   "outputs": [],
   "source": [
    "# number of true positives are 53,795\n",
    "# number of true negavites are 57,139\n",
    "# number of false positives are 2,644\n",
    "# number of false negatives are 2,625"
   ]
  },
  {
   "cell_type": "code",
   "execution_count": 17,
   "metadata": {},
   "outputs": [
    {
     "data": {
      "text/plain": [
       "<sklearn.metrics._plot.confusion_matrix.ConfusionMatrixDisplay at 0x218f4250dc0>"
      ]
     },
     "execution_count": 17,
     "metadata": {},
     "output_type": "execute_result"
    },
    {
     "data": {
      "image/png": "[encoded data removed]",
      "text/plain": [
       "<Figure size 432x288 with 2 Axes>"
      ]
     },
     "metadata": {
      "needs_background": "light"
     },
     "output_type": "display_data"
    }
   ],
   "source": [
    "plot_confusion_matrix(DT_model, X_test, y_test)"
   ]
  },
  {
   "cell_type": "code",
   "execution_count": 18,
   "metadata": {},
   "outputs": [
    {
     "name": "stdout",
     "output_type": "stream",
     "text": [
      "Accuracy is :0.954803232274554\n"
     ]
    }
   ],
   "source": [
    "# calculate accuracy of the prediction\n",
    "accuracy = accuracy_score(y_test, predict_y)\n",
    "print('Accuracy is :{0}'.format(accuracy))"
   ]
  },
  {
   "cell_type": "code",
   "execution_count": 51,
   "metadata": {},
   "outputs": [
    {
     "name": "stdout",
     "output_type": "stream",
     "text": [
      "Precision is :0.9536491949783673\n"
     ]
    }
   ],
   "source": [
    "precision = precision_score(y_test, predict_y)\n",
    "print('Precision is :{0}'.format(precision))"
   ]
  },
  {
   "cell_type": "code",
   "execution_count": 20,
   "metadata": {},
   "outputs": [
    {
     "name": "stdout",
     "output_type": "stream",
     "text": [
      "Recall is :0.9532435306628855\n"
     ]
    }
   ],
   "source": [
    "recall = recall_score(y_test, predict_y)\n",
    "print('Recall is :{0}'.format(recall))"
   ]
  },
  {
   "cell_type": "code",
   "execution_count": 21,
   "metadata": {},
   "outputs": [
    {
     "name": "stdout",
     "output_type": "stream",
     "text": [
      "F1 is :0.9534463196709687\n"
     ]
    }
   ],
   "source": [
    "F1 = f1_score(y_test, predict_y)\n",
    "print('F1 is :{0}'.format(F1))"
   ]
  },
  {
   "cell_type": "markdown",
   "metadata": {},
   "source": [
    "Tune hyperparamters to find which will create the best model. "
   ]
  },
  {
   "cell_type": "code",
   "execution_count": 61,
   "metadata": {},
   "outputs": [
    {
     "data": {
      "text/plain": [
       "GridSearchCV(cv=5, estimator=DecisionTreeClassifier(),\n",
       "             param_grid={'max_depth': [4, 5, 6, 7, 8, 9, 10, 11, 12, 15, 20],\n",
       "                         'min_samples_split': [2, 20]},\n",
       "             scoring='precision')"
      ]
     },
     "execution_count": 61,
     "metadata": {},
     "output_type": "execute_result"
    }
   ],
   "source": [
    "params = {'max_depth':[4,5,6,7,8,9,10,11,12,15,20], 'min_samples_split':[2,20]}\n",
    "gridSearch = GridSearchCV(DecisionTreeClassifier(), param_grid=params, cv=5, scoring = 'precision')\n",
    "gridSearch.fit(X_train, y_train)"
   ]
  },
  {
   "cell_type": "code",
   "execution_count": 63,
   "metadata": {},
   "outputs": [
    {
     "data": {
      "text/plain": [
       "{'mean_fit_time': array([ 3.12521467,  3.21611996,  3.77544904,  3.83967352,  4.4052269 ,\n",
       "         4.4384717 ,  5.08381214,  5.26165071,  5.66638093,  5.60995946,\n",
       "         6.32617579,  6.34006786,  6.87033844,  6.83906746,  7.55733299,\n",
       "         7.45966988,  8.061343  ,  7.99684854,  9.32911272,  9.29682584,\n",
       "        10.95032835, 10.94014268]),\n",
       " 'std_fit_time': array([0.03733594, 0.08865964, 0.12004592, 0.11064075, 0.06428941,\n",
       "        0.1432638 , 0.08877314, 0.24185495, 0.13423956, 0.09260659,\n",
       "        0.06803635, 0.12309203, 0.13290103, 0.05945045, 0.14911758,\n",
       "        0.05342859, 0.05805553, 0.10355497, 0.07838581, 0.08173087,\n",
       "        0.06889683, 0.01888796]),\n",
       " 'mean_score_time': array([0.1224967 , 0.11681843, 0.10840216, 0.11653156, 0.11907291,\n",
       "        0.11841526, 0.11346993, 0.13943548, 0.12191334, 0.12134852,\n",
       "        0.12082071, 0.1341269 , 0.12863812, 0.12479148, 0.12492204,\n",
       "        0.13318911, 0.12853985, 0.13437152, 0.13342438, 0.13703041,\n",
       "        0.14484291, 0.15444422]),\n",
       " 'std_score_time': array([0.00632655, 0.0064685 , 0.00343884, 0.01008561, 0.00426851,\n",
       "        0.00620906, 0.0046904 , 0.01313595, 0.0149987 , 0.00312715,\n",
       "        0.0055648 , 0.01058807, 0.01418049, 0.00896001, 0.00642131,\n",
       "        0.00451773, 0.00852411, 0.00687783, 0.00550361, 0.01618293,\n",
       "        0.00977318, 0.01627815]),\n",
       " 'param_max_depth': masked_array(data=[4, 4, 5, 5, 6, 6, 7, 7, 8, 8, 9, 9, 10, 10, 11, 11, 12,\n",
       "                    12, 15, 15, 20, 20],\n",
       "              mask=[False, False, False, False, False, False, False, False,\n",
       "                    False, False, False, False, False, False, False, False,\n",
       "                    False, False, False, False, False, False],\n",
       "        fill_value='?',\n",
       "             dtype=object),\n",
       " 'param_min_samples_split': masked_array(data=[2, 20, 2, 20, 2, 20, 2, 20, 2, 20, 2, 20, 2, 20, 2, 20,\n",
       "                    2, 20, 2, 20, 2, 20],\n",
       "              mask=[False, False, False, False, False, False, False, False,\n",
       "                    False, False, False, False, False, False, False, False,\n",
       "                    False, False, False, False, False, False],\n",
       "        fill_value='?',\n",
       "             dtype=object),\n",
       " 'params': [{'max_depth': 4, 'min_samples_split': 2},\n",
       "  {'max_depth': 4, 'min_samples_split': 20},\n",
       "  {'max_depth': 5, 'min_samples_split': 2},\n",
       "  {'max_depth': 5, 'min_samples_split': 20},\n",
       "  {'max_depth': 6, 'min_samples_split': 2},\n",
       "  {'max_depth': 6, 'min_samples_split': 20},\n",
       "  {'max_depth': 7, 'min_samples_split': 2},\n",
       "  {'max_depth': 7, 'min_samples_split': 20},\n",
       "  {'max_depth': 8, 'min_samples_split': 2},\n",
       "  {'max_depth': 8, 'min_samples_split': 20},\n",
       "  {'max_depth': 9, 'min_samples_split': 2},\n",
       "  {'max_depth': 9, 'min_samples_split': 20},\n",
       "  {'max_depth': 10, 'min_samples_split': 2},\n",
       "  {'max_depth': 10, 'min_samples_split': 20},\n",
       "  {'max_depth': 11, 'min_samples_split': 2},\n",
       "  {'max_depth': 11, 'min_samples_split': 20},\n",
       "  {'max_depth': 12, 'min_samples_split': 2},\n",
       "  {'max_depth': 12, 'min_samples_split': 20},\n",
       "  {'max_depth': 15, 'min_samples_split': 2},\n",
       "  {'max_depth': 15, 'min_samples_split': 20},\n",
       "  {'max_depth': 20, 'min_samples_split': 2},\n",
       "  {'max_depth': 20, 'min_samples_split': 20}],\n",
       " 'split0_test_score': array([0.72999034, 0.72999034, 0.73420857, 0.73420857, 0.7455625 ,\n",
       "        0.7455625 , 0.7542279 , 0.75419694, 0.76023108, 0.76025128,\n",
       "        0.77385901, 0.77388399, 0.78484297, 0.78471598, 0.79149663,\n",
       "        0.79149492, 0.80561005, 0.80528968, 0.8450713 , 0.84392908,\n",
       "        0.8940098 , 0.89117684]),\n",
       " 'split1_test_score': array([0.7340786 , 0.7340786 , 0.73592796, 0.73592796, 0.74697744,\n",
       "        0.74697744, 0.75604527, 0.7560503 , 0.75961812, 0.75962378,\n",
       "        0.76922922, 0.7692694 , 0.78186992, 0.78185477, 0.78454613,\n",
       "        0.78437463, 0.79515792, 0.79478333, 0.84186314, 0.84052132,\n",
       "        0.89928332, 0.89482311]),\n",
       " 'split2_test_score': array([0.73128743, 0.73128743, 0.73768977, 0.73768977, 0.74311588,\n",
       "        0.74311588, 0.75866301, 0.75866803, 0.75994967, 0.7599448 ,\n",
       "        0.77964229, 0.77961685, 0.78761208, 0.78756198, 0.79519987,\n",
       "        0.79484463, 0.79692953, 0.79653238, 0.84481737, 0.84322311,\n",
       "        0.89351211, 0.89006449]),\n",
       " 'split3_test_score': array([0.73495485, 0.73495485, 0.73493753, 0.73493753, 0.7411805 ,\n",
       "        0.74120517, 0.75736465, 0.75736404, 0.76114449, 0.76120558,\n",
       "        0.76792781, 0.76787021, 0.78018101, 0.78004106, 0.78669882,\n",
       "        0.78644945, 0.79772897, 0.79724127, 0.8357456 , 0.83436911,\n",
       "        0.88979379, 0.88633274]),\n",
       " 'split4_test_score': array([0.73307339, 0.73307339, 0.73613032, 0.73613032, 0.74833763,\n",
       "        0.74833763, 0.75630615, 0.7562906 , 0.75726686, 0.75725647,\n",
       "        0.76233263, 0.76227832, 0.7711482 , 0.77092242, 0.78739733,\n",
       "        0.78682465, 0.80104255, 0.8004058 , 0.84336236, 0.84235754,\n",
       "        0.89812497, 0.89314242]),\n",
       " 'mean_test_score': array([0.73267692, 0.73267692, 0.73577883, 0.73577883, 0.74503479,\n",
       "        0.74503972, 0.75652139, 0.75651398, 0.75964204, 0.75965638,\n",
       "        0.77059819, 0.77058376, 0.78113084, 0.78101924, 0.78906776,\n",
       "        0.78879766, 0.7992938 , 0.79885049, 0.84217195, 0.84088003,\n",
       "        0.8949448 , 0.89110792]),\n",
       " 'std_test_score': array([0.00181435, 0.00181435, 0.00118076, 0.00118076, 0.00258839,\n",
       "        0.00258105, 0.00147178, 0.00148298, 0.00129159, 0.00131132,\n",
       "        0.00582672, 0.00584054, 0.00560157, 0.00565816, 0.00380393,\n",
       "        0.00381605, 0.00369045, 0.0036983 , 0.00341218, 0.00344936,\n",
       "        0.00341748, 0.00289267]),\n",
       " 'rank_test_score': array([21, 21, 19, 19, 18, 17, 15, 16, 14, 13, 11, 12,  9, 10,  7,  8,  5,\n",
       "         6,  3,  4,  1,  2])}"
      ]
     },
     "execution_count": 63,
     "metadata": {},
     "output_type": "execute_result"
    }
   ],
   "source": [
    "gridSearch.cv_results_"
   ]
  },
  {
   "cell_type": "code",
   "execution_count": 22,
   "metadata": {},
   "outputs": [],
   "source": [
    "# tune hyperparameters starting with max depth\n",
    "depth = np.arange(1,31,2)\n",
    "precision = []\n",
    "recall = []\n",
    "accuracy = []\n",
    "F1 = []\n",
    "for n in depth:\n",
    "    DTC = DecisionTreeClassifier(criterion = 'entropy', max_depth = n)\n",
    "    DT_model = DTC.fit(X_train, y_train)\n",
    "    predict_y = DTC.predict(X_test)\n",
    "    precision.append(precision_score(y_test, predict_y))\n",
    "    recall.append(recall_score(y_test, predict_y))\n",
    "    accuracy.append(accuracy_score(y_test, predict_y))\n",
    "    F1.append(f1_score(y_test, predict_y))"
   ]
  },
  {
   "cell_type": "code",
   "execution_count": 23,
   "metadata": {},
   "outputs": [
    {
     "data": {
      "text/plain": [
       "(0.0, 31.0, 0.6, 1.0)"
      ]
     },
     "execution_count": 23,
     "metadata": {},
     "output_type": "execute_result"
    },
    {
     "data": {
      "image/png": "[encoded data removed]",
      "text/plain": [
       "<Figure size 432x288 with 1 Axes>"
      ]
     },
     "metadata": {
      "needs_background": "light"
     },
     "output_type": "display_data"
    }
   ],
   "source": [
    "plt.plot(depth, precision, label = 'precision')\n",
    "plt.plot(depth, recall, label = 'recall')\n",
    "plt.plot(depth, accuracy, label = 'accuracy')\n",
    "plt.plot(depth, F1, label = 'F1')\n",
    "plt.axis([0,31,0.6,1])"
   ]
  },
  {
   "cell_type": "code",
   "execution_count": null,
   "metadata": {},
   "outputs": [],
   "source": [
    "# tune hyperparameters starting with max depth\n",
    "depth = np.arange(31,60)\n",
    "precision = []\n",
    "recall = []\n",
    "accuracy = []\n",
    "F1 = []\n",
    "for n in depth:\n",
    "    DTC = DecisionTreeClassifier(criterion = 'entropy', max_depth = n)\n",
    "    DT_model = DTC.fit(X_train, y_train)\n",
    "    predict_y = DTC.predict(X_test)\n",
    "    precision.append(precision_score(y_test, predict_y))\n",
    "    recall.append(recall_score(y_test, predict_y))\n",
    "    accuracy.append(accuracy_score(y_test, predict_y))\n",
    "    F1.append(f1_score(y_test, predict_y))\n"
   ]
  },
  {
   "cell_type": "code",
   "execution_count": null,
   "metadata": {},
   "outputs": [],
   "source": [
    "plt.plot(depth, precision, label = 'precision')\n",
    "plt.plot(depth, recall, label = 'recall')\n",
    "plt.plot(depth, accuracy, label = 'accuracy')\n",
    "plt.plot(depth, F1, label = 'F1')\n",
    "plt.axis([30,60,0.948,0.956])"
   ]
  },
  {
   "cell_type": "code",
   "execution_count": 31,
   "metadata": {},
   "outputs": [],
   "source": [
    "sample_split = np.arange(2,20)\n",
    "precision = []\n",
    "recall = []\n",
    "accuracy = []\n",
    "F1 = []\n",
    "for n in sample_split:\n",
    "    DTC = DecisionTreeClassifier(criterion = 'entropy', min_samples_split = n)\n",
    "    DT_model = DTC.fit(X_train, y_train)\n",
    "    predict_y = DTC.predict(X_test)\n",
    "    precision.append(precision_score(y_test, predict_y))\n",
    "    recall.append(recall_score(y_test, predict_y))\n",
    "    accuracy.append(accuracy_score(y_test, predict_y))\n",
    "    F1.append(f1_score(y_test, predict_y))"
   ]
  },
  {
   "cell_type": "code",
   "execution_count": 34,
   "metadata": {},
   "outputs": [
    {
     "data": {
      "text/plain": [
       "(2.0, 20.0, 0.94, 0.955)"
      ]
     },
     "execution_count": 34,
     "metadata": {},
     "output_type": "execute_result"
    },
    {
     "data": {
      "image/png": "[encoded data removed]",
      "text/plain": [
       "<Figure size 432x288 with 1 Axes>"
      ]
     },
     "metadata": {
      "needs_background": "light"
     },
     "output_type": "display_data"
    }
   ],
   "source": [
    "plt.plot(sample_split, precision)\n",
    "plt.plot(sample_split, recall)\n",
    "plt.plot(sample_split, accuracy)\n",
    "plt.plot(sample_split, F1)\n",
    "plt.axis([2,20,0.94,0.955])"
   ]
  },
  {
   "cell_type": "code",
   "execution_count": 35,
   "metadata": {},
   "outputs": [],
   "source": [
    "sample_leaf = np.arange(1,10)\n",
    "precision = []\n",
    "recall = []\n",
    "accuracy = []\n",
    "F1 = []\n",
    "for n in sample_leaf:\n",
    "    DTC = DecisionTreeClassifier(criterion = 'entropy', min_samples_leaf = n)\n",
    "    DT_model = DTC.fit(X_train, y_train)\n",
    "    predict_y = DTC.predict(X_test)\n",
    "    precision.append(precision_score(y_test, predict_y))\n",
    "    recall.append(recall_score(y_test, predict_y))\n",
    "    accuracy.append(accuracy_score(y_test, predict_y))\n",
    "    F1.append(f1_score(y_test, predict_y))"
   ]
  },
  {
   "cell_type": "code",
   "execution_count": 37,
   "metadata": {},
   "outputs": [
    {
     "data": {
      "text/plain": [
       "[<matplotlib.lines.Line2D at 0x18b881060a0>]"
      ]
     },
     "execution_count": 37,
     "metadata": {},
     "output_type": "execute_result"
    },
    {
     "data": {
      "image/png": "[encoded data removed]",
      "text/plain": [
       "<Figure size 432x288 with 1 Axes>"
      ]
     },
     "metadata": {
      "needs_background": "light"
     },
     "output_type": "display_data"
    }
   ],
   "source": [
    "plt.plot(sample_leaf, precision)\n",
    "plt.plot(sample_leaf, recall)\n",
    "plt.plot(sample_leaf, accuracy)\n",
    "plt.plot(sample_leaf, F1)"
   ]
  },
  {
   "cell_type": "code",
   "execution_count": 49,
   "metadata": {},
   "outputs": [],
   "source": [
    "features = np.arange(1,40)\n",
    "precision = []\n",
    "recall = []\n",
    "accuracy = []\n",
    "F1 = []\n",
    "for n in features:\n",
    "    DTC = DecisionTreeClassifier(criterion = 'entropy', max_features = n)\n",
    "    DT_model = DTC.fit(X_train, y_train)\n",
    "    predict_y = DTC.predict(X_test)\n",
    "    precision.append(precision_score(y_test, predict_y))\n",
    "    recall.append(recall_score(y_test, predict_y))\n",
    "    accuracy.append(accuracy_score(y_test, predict_y))\n",
    "    F1.append(f1_score(y_test, predict_y))"
   ]
  },
  {
   "cell_type": "code",
   "execution_count": 42,
   "metadata": {},
   "outputs": [
    {
     "data": {
      "text/plain": [
       "[<matplotlib.lines.Line2D at 0x18b8805bac0>]"
      ]
     },
     "execution_count": 42,
     "metadata": {},
     "output_type": "execute_result"
    },
    {
     "data": {
      "image/png": "[encoded data removed]",
      "text/plain": [
       "<Figure size 432x288 with 1 Axes>"
      ]
     },
     "metadata": {
      "needs_background": "light"
     },
     "output_type": "display_data"
    }
   ],
   "source": [
    "plt.plot(features, precision)\n",
    "plt.plot(features, recall)\n",
    "plt.plot(features, accuracy)\n",
    "plt.plot(features, F1)"
   ]
  },
  {
   "cell_type": "code",
   "execution_count": 48,
   "metadata": {},
   "outputs": [
    {
     "ename": "ValueError",
     "evalue": "max_features must be in (0, n_features]",
     "output_type": "error",
     "traceback": [
      "\u001b[1;31m---------------------------------------------------------------------------\u001b[0m",
      "\u001b[1;31mValueError\u001b[0m                                Traceback (most recent call last)",
      "\u001b[1;32m<ipython-input-48-190a0ee60db0>\u001b[0m in \u001b[0;36m<module>\u001b[1;34m\u001b[0m\n\u001b[0;32m      6\u001b[0m \u001b[1;32mfor\u001b[0m \u001b[0mn\u001b[0m \u001b[1;32min\u001b[0m \u001b[0mfeatures\u001b[0m\u001b[1;33m:\u001b[0m\u001b[1;33m\u001b[0m\u001b[1;33m\u001b[0m\u001b[0m\n\u001b[0;32m      7\u001b[0m     \u001b[0mDTC\u001b[0m \u001b[1;33m=\u001b[0m \u001b[0mDecisionTreeClassifier\u001b[0m\u001b[1;33m(\u001b[0m\u001b[0mcriterion\u001b[0m \u001b[1;33m=\u001b[0m \u001b[1;34m'entropy'\u001b[0m\u001b[1;33m,\u001b[0m \u001b[0mmax_features\u001b[0m \u001b[1;33m=\u001b[0m \u001b[0mn\u001b[0m\u001b[1;33m)\u001b[0m\u001b[1;33m\u001b[0m\u001b[1;33m\u001b[0m\u001b[0m\n\u001b[1;32m----> 8\u001b[1;33m     \u001b[0mDT_model\u001b[0m \u001b[1;33m=\u001b[0m \u001b[0mDTC\u001b[0m\u001b[1;33m.\u001b[0m\u001b[0mfit\u001b[0m\u001b[1;33m(\u001b[0m\u001b[0mX_train\u001b[0m\u001b[1;33m,\u001b[0m \u001b[0my_train\u001b[0m\u001b[1;33m)\u001b[0m\u001b[1;33m\u001b[0m\u001b[1;33m\u001b[0m\u001b[0m\n\u001b[0m\u001b[0;32m      9\u001b[0m     \u001b[0mpredict_y\u001b[0m \u001b[1;33m=\u001b[0m \u001b[0mDTC\u001b[0m\u001b[1;33m.\u001b[0m\u001b[0mpredict\u001b[0m\u001b[1;33m(\u001b[0m\u001b[0mX_test\u001b[0m\u001b[1;33m)\u001b[0m\u001b[1;33m\u001b[0m\u001b[1;33m\u001b[0m\u001b[0m\n\u001b[0;32m     10\u001b[0m     \u001b[0mprecision\u001b[0m\u001b[1;33m.\u001b[0m\u001b[0mappend\u001b[0m\u001b[1;33m(\u001b[0m\u001b[0mprecision_score\u001b[0m\u001b[1;33m(\u001b[0m\u001b[0my_test\u001b[0m\u001b[1;33m,\u001b[0m \u001b[0mpredict_y\u001b[0m\u001b[1;33m)\u001b[0m\u001b[1;33m)\u001b[0m\u001b[1;33m\u001b[0m\u001b[1;33m\u001b[0m\u001b[0m\n",
      "\u001b[1;32m~\\Anaconda3\\envs\\learn-env\\lib\\site-packages\\sklearn\\tree\\_classes.py\u001b[0m in \u001b[0;36mfit\u001b[1;34m(self, X, y, sample_weight, check_input, X_idx_sorted)\u001b[0m\n\u001b[0;32m    888\u001b[0m         \"\"\"\n\u001b[0;32m    889\u001b[0m \u001b[1;33m\u001b[0m\u001b[0m\n\u001b[1;32m--> 890\u001b[1;33m         super().fit(\n\u001b[0m\u001b[0;32m    891\u001b[0m             \u001b[0mX\u001b[0m\u001b[1;33m,\u001b[0m \u001b[0my\u001b[0m\u001b[1;33m,\u001b[0m\u001b[1;33m\u001b[0m\u001b[1;33m\u001b[0m\u001b[0m\n\u001b[0;32m    892\u001b[0m             \u001b[0msample_weight\u001b[0m\u001b[1;33m=\u001b[0m\u001b[0msample_weight\u001b[0m\u001b[1;33m,\u001b[0m\u001b[1;33m\u001b[0m\u001b[1;33m\u001b[0m\u001b[0m\n",
      "\u001b[1;32m~\\Anaconda3\\envs\\learn-env\\lib\\site-packages\\sklearn\\tree\\_classes.py\u001b[0m in \u001b[0;36mfit\u001b[1;34m(self, X, y, sample_weight, check_input, X_idx_sorted)\u001b[0m\n\u001b[0;32m    277\u001b[0m             \u001b[1;32mraise\u001b[0m \u001b[0mValueError\u001b[0m\u001b[1;33m(\u001b[0m\u001b[1;34m\"max_depth must be greater than zero. \"\u001b[0m\u001b[1;33m)\u001b[0m\u001b[1;33m\u001b[0m\u001b[1;33m\u001b[0m\u001b[0m\n\u001b[0;32m    278\u001b[0m         \u001b[1;32mif\u001b[0m \u001b[1;32mnot\u001b[0m \u001b[1;33m(\u001b[0m\u001b[1;36m0\u001b[0m \u001b[1;33m<\u001b[0m \u001b[0mmax_features\u001b[0m \u001b[1;33m<=\u001b[0m \u001b[0mself\u001b[0m\u001b[1;33m.\u001b[0m\u001b[0mn_features_\u001b[0m\u001b[1;33m)\u001b[0m\u001b[1;33m:\u001b[0m\u001b[1;33m\u001b[0m\u001b[1;33m\u001b[0m\u001b[0m\n\u001b[1;32m--> 279\u001b[1;33m             \u001b[1;32mraise\u001b[0m \u001b[0mValueError\u001b[0m\u001b[1;33m(\u001b[0m\u001b[1;34m\"max_features must be in (0, n_features]\"\u001b[0m\u001b[1;33m)\u001b[0m\u001b[1;33m\u001b[0m\u001b[1;33m\u001b[0m\u001b[0m\n\u001b[0m\u001b[0;32m    280\u001b[0m         \u001b[1;32mif\u001b[0m \u001b[1;32mnot\u001b[0m \u001b[0misinstance\u001b[0m\u001b[1;33m(\u001b[0m\u001b[0mmax_leaf_nodes\u001b[0m\u001b[1;33m,\u001b[0m \u001b[0mnumbers\u001b[0m\u001b[1;33m.\u001b[0m\u001b[0mIntegral\u001b[0m\u001b[1;33m)\u001b[0m\u001b[1;33m:\u001b[0m\u001b[1;33m\u001b[0m\u001b[1;33m\u001b[0m\u001b[0m\n\u001b[0;32m    281\u001b[0m             raise ValueError(\"max_leaf_nodes must be integral number but was \"\n",
      "\u001b[1;31mValueError\u001b[0m: max_features must be in (0, n_features]"
     ]
    }
   ],
   "source": [
    "features = np.arange(1,60)\n",
    "precision = []\n",
    "recall = []\n",
    "accuracy = []\n",
    "F1 = []\n",
    "for n in features:\n",
    "    DTC = DecisionTreeClassifier(criterion = 'entropy', max_features = n)\n",
    "    DT_model = DTC.fit(X_train, y_train)\n",
    "    predict_y = DTC.predict(X_test)\n",
    "    precision.append(precision_score(y_test, predict_y))\n",
    "    recall.append(recall_score(y_test, predict_y))\n",
    "    accuracy.append(accuracy_score(y_test, predict_y))\n",
    "    F1.append(f1_score(y_test, predict_y))"
   ]
  },
  {
   "cell_type": "code",
   "execution_count": 44,
   "metadata": {},
   "outputs": [
    {
     "data": {
      "text/plain": [
       "[<matplotlib.lines.Line2D at 0x18b88366ac0>]"
      ]
     },
     "execution_count": 44,
     "metadata": {},
     "output_type": "execute_result"
    },
    {
     "data": {
      "image/png": "[encoded data removed]",
      "text/plain": [
       "<Figure size 432x288 with 1 Axes>"
      ]
     },
     "metadata": {
      "needs_background": "light"
     },
     "output_type": "display_data"
    }
   ],
   "source": [
    "plt.plot(features, precision)\n",
    "plt.plot(features, recall)\n",
    "plt.plot(features, accuracy)\n",
    "plt.plot(features, F1)"
   ]
  },
  {
   "cell_type": "code",
   "execution_count": null,
   "metadata": {},
   "outputs": [],
   "source": [
    " DTC = DecisionTreeClassifier(criterion = 'entropy', max_depth = 48, max_features = n)\n",
    "    DT_model = DTC.fit(X_train, y_train)\n",
    "    predict_y = DTC.predict(X_test)\n",
    "    precision.append(precision_score(y_test, predict_y))\n",
    "    recall.append(recall_score(y_test, predict_y))\n",
    "    accuracy.append(accuracy_score(y_test, predict_y))\n",
    "    F1.append(f1_score(y_test, predict_y))"
   ]
  }
 ],
 "metadata": {
  "kernelspec": {
   "display_name": "Python (learn-env)",
   "language": "python",
   "name": "learn-env"
  },
  "language_info": {
   "codemirror_mode": {
    "name": "ipython",
    "version": 3
   },
   "file_extension": ".py",
   "mimetype": "text/x-python",
   "name": "python",
   "nbconvert_exporter": "python",
   "pygments_lexer": "ipython3",
   "version": "3.8.5"
  }
 },
 "nbformat": 4,
 "nbformat_minor": 4
}
