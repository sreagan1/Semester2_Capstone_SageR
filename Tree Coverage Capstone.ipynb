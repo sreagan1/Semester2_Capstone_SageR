{
 "cells": [
  {
   "cell_type": "markdown",
   "metadata": {},
   "source": [
    "# Semester 2 Capstone - Tree Coverage Type"
   ]
  },
  {
   "cell_type": "markdown",
   "metadata": {},
   "source": [
    "## Business Case"
   ]
  },
  {
   "cell_type": "markdown",
   "metadata": {},
   "source": [
    "The main stakeholder for the business case is the Bureau of Land Management. The Bureau wants to thin the forest within Roosevelt National Park to help with the health of the forest. Thinning the forest will ensure trees don't fight over resources such as light and water. The Bureau has determined that there are many Lodgepole Pine Trees within the forest and have decided the best course of action would be to cut down these specific types of trees. The lumber from these trees will also be benneficial as the Bureau will be able to sell it and make a profit. It is important to note that the Bureau does not want to cut down all the Lodgepole Pine trees and there are other types of trees within the forest and the Bureau does not want to cut down. "
   ]
  },
  {
   "cell_type": "markdown",
   "metadata": {},
   "source": [
    "I will be approching this problem using a decision tree model. \n",
    "The metrics I will be focusing on for this problem is precision, recall, accuracy, and F1. "
   ]
  },
  {
   "cell_type": "markdown",
   "metadata": {},
   "source": [
    "Because this business case is focused on cutting down only some of the Lodgepole Pine trees and not cutting down any other types of trees, I will be focusing mainly on precision to determine which is the most effective model. "
   ]
  },
  {
   "cell_type": "markdown",
   "metadata": {},
   "source": [
    "## Data Understanding"
   ]
  },
  {
   "cell_type": "markdown",
   "metadata": {},
   "source": [
    "Import the libraries necesary for this model."
   ]
  },
  {
   "cell_type": "code",
   "execution_count": 2,
   "metadata": {},
   "outputs": [],
   "source": [
    "#import libraries\n",
    "import numpy as np \n",
    "import pandas as pd \n",
    "import matplotlib.pyplot as plt\n",
    "from sklearn.model_selection import train_test_split\n",
    "from sklearn.tree import DecisionTreeClassifier \n",
    "from sklearn.metrics import precision_score\n",
    "from sklearn.metrics import recall_score\n",
    "from sklearn.metrics import accuracy_score\n",
    "from sklearn.metrics import f1_score\n",
    "from sklearn import tree\n",
    "from sklearn.metrics import confusion_matrix\n",
    "from sklearn.metrics import plot_confusion_matrix\n",
    "from sklearn.model_selection import GridSearchCV"
   ]
  },
  {
   "cell_type": "markdown",
   "metadata": {},
   "source": [
    "Import the csv data file into a dataframe and examine the features of the dataframe. "
   ]
  },
  {
   "cell_type": "code",
   "execution_count": 3,
   "metadata": {},
   "outputs": [],
   "source": [
    "forest_info = pd.read_csv('covtype.csv')"
   ]
  },
  {
   "cell_type": "code",
   "execution_count": 4,
   "metadata": {},
   "outputs": [
    {
     "data": {
      "text/html": [
       "<div>\n",
       "<style scoped>\n",
       "    .dataframe tbody tr th:only-of-type {\n",
       "        vertical-align: middle;\n",
       "    }\n",
       "\n",
       "    .dataframe tbody tr th {\n",
       "        vertical-align: top;\n",
       "    }\n",
       "\n",
       "    .dataframe thead th {\n",
       "        text-align: right;\n",
       "    }\n",
       "</style>\n",
       "<table border=\"1\" class=\"dataframe\">\n",
       "  <thead>\n",
       "    <tr style=\"text-align: right;\">\n",
       "      <th></th>\n",
       "      <th>Elevation</th>\n",
       "      <th>Aspect</th>\n",
       "      <th>Slope</th>\n",
       "      <th>Horizontal_Distance_To_Hydrology</th>\n",
       "      <th>Vertical_Distance_To_Hydrology</th>\n",
       "      <th>Horizontal_Distance_To_Roadways</th>\n",
       "      <th>Hillshade_9am</th>\n",
       "      <th>Hillshade_Noon</th>\n",
       "      <th>Hillshade_3pm</th>\n",
       "      <th>Horizontal_Distance_To_Fire_Points</th>\n",
       "      <th>...</th>\n",
       "      <th>Soil_Type32</th>\n",
       "      <th>Soil_Type33</th>\n",
       "      <th>Soil_Type34</th>\n",
       "      <th>Soil_Type35</th>\n",
       "      <th>Soil_Type36</th>\n",
       "      <th>Soil_Type37</th>\n",
       "      <th>Soil_Type38</th>\n",
       "      <th>Soil_Type39</th>\n",
       "      <th>Soil_Type40</th>\n",
       "      <th>Cover_Type</th>\n",
       "    </tr>\n",
       "  </thead>\n",
       "  <tbody>\n",
       "    <tr>\n",
       "      <th>0</th>\n",
       "      <td>2596</td>\n",
       "      <td>51</td>\n",
       "      <td>3</td>\n",
       "      <td>258</td>\n",
       "      <td>0</td>\n",
       "      <td>510</td>\n",
       "      <td>221</td>\n",
       "      <td>232</td>\n",
       "      <td>148</td>\n",
       "      <td>6279</td>\n",
       "      <td>...</td>\n",
       "      <td>0</td>\n",
       "      <td>0</td>\n",
       "      <td>0</td>\n",
       "      <td>0</td>\n",
       "      <td>0</td>\n",
       "      <td>0</td>\n",
       "      <td>0</td>\n",
       "      <td>0</td>\n",
       "      <td>0</td>\n",
       "      <td>5</td>\n",
       "    </tr>\n",
       "    <tr>\n",
       "      <th>1</th>\n",
       "      <td>2590</td>\n",
       "      <td>56</td>\n",
       "      <td>2</td>\n",
       "      <td>212</td>\n",
       "      <td>-6</td>\n",
       "      <td>390</td>\n",
       "      <td>220</td>\n",
       "      <td>235</td>\n",
       "      <td>151</td>\n",
       "      <td>6225</td>\n",
       "      <td>...</td>\n",
       "      <td>0</td>\n",
       "      <td>0</td>\n",
       "      <td>0</td>\n",
       "      <td>0</td>\n",
       "      <td>0</td>\n",
       "      <td>0</td>\n",
       "      <td>0</td>\n",
       "      <td>0</td>\n",
       "      <td>0</td>\n",
       "      <td>5</td>\n",
       "    </tr>\n",
       "    <tr>\n",
       "      <th>2</th>\n",
       "      <td>2804</td>\n",
       "      <td>139</td>\n",
       "      <td>9</td>\n",
       "      <td>268</td>\n",
       "      <td>65</td>\n",
       "      <td>3180</td>\n",
       "      <td>234</td>\n",
       "      <td>238</td>\n",
       "      <td>135</td>\n",
       "      <td>6121</td>\n",
       "      <td>...</td>\n",
       "      <td>0</td>\n",
       "      <td>0</td>\n",
       "      <td>0</td>\n",
       "      <td>0</td>\n",
       "      <td>0</td>\n",
       "      <td>0</td>\n",
       "      <td>0</td>\n",
       "      <td>0</td>\n",
       "      <td>0</td>\n",
       "      <td>2</td>\n",
       "    </tr>\n",
       "    <tr>\n",
       "      <th>3</th>\n",
       "      <td>2785</td>\n",
       "      <td>155</td>\n",
       "      <td>18</td>\n",
       "      <td>242</td>\n",
       "      <td>118</td>\n",
       "      <td>3090</td>\n",
       "      <td>238</td>\n",
       "      <td>238</td>\n",
       "      <td>122</td>\n",
       "      <td>6211</td>\n",
       "      <td>...</td>\n",
       "      <td>0</td>\n",
       "      <td>0</td>\n",
       "      <td>0</td>\n",
       "      <td>0</td>\n",
       "      <td>0</td>\n",
       "      <td>0</td>\n",
       "      <td>0</td>\n",
       "      <td>0</td>\n",
       "      <td>0</td>\n",
       "      <td>2</td>\n",
       "    </tr>\n",
       "    <tr>\n",
       "      <th>4</th>\n",
       "      <td>2595</td>\n",
       "      <td>45</td>\n",
       "      <td>2</td>\n",
       "      <td>153</td>\n",
       "      <td>-1</td>\n",
       "      <td>391</td>\n",
       "      <td>220</td>\n",
       "      <td>234</td>\n",
       "      <td>150</td>\n",
       "      <td>6172</td>\n",
       "      <td>...</td>\n",
       "      <td>0</td>\n",
       "      <td>0</td>\n",
       "      <td>0</td>\n",
       "      <td>0</td>\n",
       "      <td>0</td>\n",
       "      <td>0</td>\n",
       "      <td>0</td>\n",
       "      <td>0</td>\n",
       "      <td>0</td>\n",
       "      <td>5</td>\n",
       "    </tr>\n",
       "  </tbody>\n",
       "</table>\n",
       "<p>5 rows × 55 columns</p>\n",
       "</div>"
      ],
      "text/plain": [
       "   Elevation  Aspect  Slope  Horizontal_Distance_To_Hydrology  \\\n",
       "0       2596      51      3                               258   \n",
       "1       2590      56      2                               212   \n",
       "2       2804     139      9                               268   \n",
       "3       2785     155     18                               242   \n",
       "4       2595      45      2                               153   \n",
       "\n",
       "   Vertical_Distance_To_Hydrology  Horizontal_Distance_To_Roadways  \\\n",
       "0                               0                              510   \n",
       "1                              -6                              390   \n",
       "2                              65                             3180   \n",
       "3                             118                             3090   \n",
       "4                              -1                              391   \n",
       "\n",
       "   Hillshade_9am  Hillshade_Noon  Hillshade_3pm  \\\n",
       "0            221             232            148   \n",
       "1            220             235            151   \n",
       "2            234             238            135   \n",
       "3            238             238            122   \n",
       "4            220             234            150   \n",
       "\n",
       "   Horizontal_Distance_To_Fire_Points  ...  Soil_Type32  Soil_Type33  \\\n",
       "0                                6279  ...            0            0   \n",
       "1                                6225  ...            0            0   \n",
       "2                                6121  ...            0            0   \n",
       "3                                6211  ...            0            0   \n",
       "4                                6172  ...            0            0   \n",
       "\n",
       "   Soil_Type34  Soil_Type35  Soil_Type36  Soil_Type37  Soil_Type38  \\\n",
       "0            0            0            0            0            0   \n",
       "1            0            0            0            0            0   \n",
       "2            0            0            0            0            0   \n",
       "3            0            0            0            0            0   \n",
       "4            0            0            0            0            0   \n",
       "\n",
       "   Soil_Type39  Soil_Type40  Cover_Type  \n",
       "0            0            0           5  \n",
       "1            0            0           5  \n",
       "2            0            0           2  \n",
       "3            0            0           2  \n",
       "4            0            0           5  \n",
       "\n",
       "[5 rows x 55 columns]"
      ]
     },
     "execution_count": 4,
     "metadata": {},
     "output_type": "execute_result"
    }
   ],
   "source": [
    "#print out top rows examine what is in the dataframe\n",
    "forest_info.head()"
   ]
  },
  {
   "cell_type": "markdown",
   "metadata": {},
   "source": [
    "Understand what columns are in the dataset and what the columns contain.\n",
    "Check for null values within the dataset and if there is any categorical data that needs to be encoded. "
   ]
  },
  {
   "cell_type": "code",
   "execution_count": 5,
   "metadata": {},
   "outputs": [
    {
     "name": "stdout",
     "output_type": "stream",
     "text": [
      "<class 'pandas.core.frame.DataFrame'>\n",
      "RangeIndex: 581012 entries, 0 to 581011\n",
      "Data columns (total 55 columns):\n",
      " #   Column                              Non-Null Count   Dtype\n",
      "---  ------                              --------------   -----\n",
      " 0   Elevation                           581012 non-null  int64\n",
      " 1   Aspect                              581012 non-null  int64\n",
      " 2   Slope                               581012 non-null  int64\n",
      " 3   Horizontal_Distance_To_Hydrology    581012 non-null  int64\n",
      " 4   Vertical_Distance_To_Hydrology      581012 non-null  int64\n",
      " 5   Horizontal_Distance_To_Roadways     581012 non-null  int64\n",
      " 6   Hillshade_9am                       581012 non-null  int64\n",
      " 7   Hillshade_Noon                      581012 non-null  int64\n",
      " 8   Hillshade_3pm                       581012 non-null  int64\n",
      " 9   Horizontal_Distance_To_Fire_Points  581012 non-null  int64\n",
      " 10  Wilderness_Area1                    581012 non-null  int64\n",
      " 11  Wilderness_Area2                    581012 non-null  int64\n",
      " 12  Wilderness_Area3                    581012 non-null  int64\n",
      " 13  Wilderness_Area4                    581012 non-null  int64\n",
      " 14  Soil_Type1                          581012 non-null  int64\n",
      " 15  Soil_Type2                          581012 non-null  int64\n",
      " 16  Soil_Type3                          581012 non-null  int64\n",
      " 17  Soil_Type4                          581012 non-null  int64\n",
      " 18  Soil_Type5                          581012 non-null  int64\n",
      " 19  Soil_Type6                          581012 non-null  int64\n",
      " 20  Soil_Type7                          581012 non-null  int64\n",
      " 21  Soil_Type8                          581012 non-null  int64\n",
      " 22  Soil_Type9                          581012 non-null  int64\n",
      " 23  Soil_Type10                         581012 non-null  int64\n",
      " 24  Soil_Type11                         581012 non-null  int64\n",
      " 25  Soil_Type12                         581012 non-null  int64\n",
      " 26  Soil_Type13                         581012 non-null  int64\n",
      " 27  Soil_Type14                         581012 non-null  int64\n",
      " 28  Soil_Type15                         581012 non-null  int64\n",
      " 29  Soil_Type16                         581012 non-null  int64\n",
      " 30  Soil_Type17                         581012 non-null  int64\n",
      " 31  Soil_Type18                         581012 non-null  int64\n",
      " 32  Soil_Type19                         581012 non-null  int64\n",
      " 33  Soil_Type20                         581012 non-null  int64\n",
      " 34  Soil_Type21                         581012 non-null  int64\n",
      " 35  Soil_Type22                         581012 non-null  int64\n",
      " 36  Soil_Type23                         581012 non-null  int64\n",
      " 37  Soil_Type24                         581012 non-null  int64\n",
      " 38  Soil_Type25                         581012 non-null  int64\n",
      " 39  Soil_Type26                         581012 non-null  int64\n",
      " 40  Soil_Type27                         581012 non-null  int64\n",
      " 41  Soil_Type28                         581012 non-null  int64\n",
      " 42  Soil_Type29                         581012 non-null  int64\n",
      " 43  Soil_Type30                         581012 non-null  int64\n",
      " 44  Soil_Type31                         581012 non-null  int64\n",
      " 45  Soil_Type32                         581012 non-null  int64\n",
      " 46  Soil_Type33                         581012 non-null  int64\n",
      " 47  Soil_Type34                         581012 non-null  int64\n",
      " 48  Soil_Type35                         581012 non-null  int64\n",
      " 49  Soil_Type36                         581012 non-null  int64\n",
      " 50  Soil_Type37                         581012 non-null  int64\n",
      " 51  Soil_Type38                         581012 non-null  int64\n",
      " 52  Soil_Type39                         581012 non-null  int64\n",
      " 53  Soil_Type40                         581012 non-null  int64\n",
      " 54  Cover_Type                          581012 non-null  int64\n",
      "dtypes: int64(55)\n",
      "memory usage: 243.8 MB\n"
     ]
    }
   ],
   "source": [
    "forest_info.info()"
   ]
  },
  {
   "cell_type": "code",
   "execution_count": 7,
   "metadata": {},
   "outputs": [
    {
     "data": {
      "text/html": [
       "<div>\n",
       "<style scoped>\n",
       "    .dataframe tbody tr th:only-of-type {\n",
       "        vertical-align: middle;\n",
       "    }\n",
       "\n",
       "    .dataframe tbody tr th {\n",
       "        vertical-align: top;\n",
       "    }\n",
       "\n",
       "    .dataframe thead th {\n",
       "        text-align: right;\n",
       "    }\n",
       "</style>\n",
       "<table border=\"1\" class=\"dataframe\">\n",
       "  <thead>\n",
       "    <tr style=\"text-align: right;\">\n",
       "      <th></th>\n",
       "      <th>Elevation</th>\n",
       "      <th>Aspect</th>\n",
       "      <th>Slope</th>\n",
       "      <th>Horizontal_Distance_To_Hydrology</th>\n",
       "      <th>Vertical_Distance_To_Hydrology</th>\n",
       "      <th>Horizontal_Distance_To_Roadways</th>\n",
       "      <th>Hillshade_9am</th>\n",
       "      <th>Hillshade_Noon</th>\n",
       "      <th>Hillshade_3pm</th>\n",
       "      <th>Horizontal_Distance_To_Fire_Points</th>\n",
       "      <th>...</th>\n",
       "      <th>Soil_Type32</th>\n",
       "      <th>Soil_Type33</th>\n",
       "      <th>Soil_Type34</th>\n",
       "      <th>Soil_Type35</th>\n",
       "      <th>Soil_Type36</th>\n",
       "      <th>Soil_Type37</th>\n",
       "      <th>Soil_Type38</th>\n",
       "      <th>Soil_Type39</th>\n",
       "      <th>Soil_Type40</th>\n",
       "      <th>Cover_Type</th>\n",
       "    </tr>\n",
       "  </thead>\n",
       "  <tbody>\n",
       "    <tr>\n",
       "      <th>count</th>\n",
       "      <td>581012.000000</td>\n",
       "      <td>581012.000000</td>\n",
       "      <td>581012.000000</td>\n",
       "      <td>581012.000000</td>\n",
       "      <td>581012.000000</td>\n",
       "      <td>581012.000000</td>\n",
       "      <td>581012.000000</td>\n",
       "      <td>581012.000000</td>\n",
       "      <td>581012.000000</td>\n",
       "      <td>581012.000000</td>\n",
       "      <td>...</td>\n",
       "      <td>581012.000000</td>\n",
       "      <td>581012.000000</td>\n",
       "      <td>581012.000000</td>\n",
       "      <td>581012.000000</td>\n",
       "      <td>581012.000000</td>\n",
       "      <td>581012.000000</td>\n",
       "      <td>581012.000000</td>\n",
       "      <td>581012.000000</td>\n",
       "      <td>581012.000000</td>\n",
       "      <td>581012.000000</td>\n",
       "    </tr>\n",
       "    <tr>\n",
       "      <th>mean</th>\n",
       "      <td>2959.365301</td>\n",
       "      <td>155.656807</td>\n",
       "      <td>14.103704</td>\n",
       "      <td>269.428217</td>\n",
       "      <td>46.418855</td>\n",
       "      <td>2350.146611</td>\n",
       "      <td>212.146049</td>\n",
       "      <td>223.318716</td>\n",
       "      <td>142.528263</td>\n",
       "      <td>1980.291226</td>\n",
       "      <td>...</td>\n",
       "      <td>0.090392</td>\n",
       "      <td>0.077716</td>\n",
       "      <td>0.002773</td>\n",
       "      <td>0.003255</td>\n",
       "      <td>0.000205</td>\n",
       "      <td>0.000513</td>\n",
       "      <td>0.026803</td>\n",
       "      <td>0.023762</td>\n",
       "      <td>0.015060</td>\n",
       "      <td>2.051471</td>\n",
       "    </tr>\n",
       "    <tr>\n",
       "      <th>std</th>\n",
       "      <td>279.984734</td>\n",
       "      <td>111.913721</td>\n",
       "      <td>7.488242</td>\n",
       "      <td>212.549356</td>\n",
       "      <td>58.295232</td>\n",
       "      <td>1559.254870</td>\n",
       "      <td>26.769889</td>\n",
       "      <td>19.768697</td>\n",
       "      <td>38.274529</td>\n",
       "      <td>1324.195210</td>\n",
       "      <td>...</td>\n",
       "      <td>0.286743</td>\n",
       "      <td>0.267725</td>\n",
       "      <td>0.052584</td>\n",
       "      <td>0.056957</td>\n",
       "      <td>0.014310</td>\n",
       "      <td>0.022641</td>\n",
       "      <td>0.161508</td>\n",
       "      <td>0.152307</td>\n",
       "      <td>0.121791</td>\n",
       "      <td>1.396504</td>\n",
       "    </tr>\n",
       "    <tr>\n",
       "      <th>min</th>\n",
       "      <td>1859.000000</td>\n",
       "      <td>0.000000</td>\n",
       "      <td>0.000000</td>\n",
       "      <td>0.000000</td>\n",
       "      <td>-173.000000</td>\n",
       "      <td>0.000000</td>\n",
       "      <td>0.000000</td>\n",
       "      <td>0.000000</td>\n",
       "      <td>0.000000</td>\n",
       "      <td>0.000000</td>\n",
       "      <td>...</td>\n",
       "      <td>0.000000</td>\n",
       "      <td>0.000000</td>\n",
       "      <td>0.000000</td>\n",
       "      <td>0.000000</td>\n",
       "      <td>0.000000</td>\n",
       "      <td>0.000000</td>\n",
       "      <td>0.000000</td>\n",
       "      <td>0.000000</td>\n",
       "      <td>0.000000</td>\n",
       "      <td>1.000000</td>\n",
       "    </tr>\n",
       "    <tr>\n",
       "      <th>25%</th>\n",
       "      <td>2809.000000</td>\n",
       "      <td>58.000000</td>\n",
       "      <td>9.000000</td>\n",
       "      <td>108.000000</td>\n",
       "      <td>7.000000</td>\n",
       "      <td>1106.000000</td>\n",
       "      <td>198.000000</td>\n",
       "      <td>213.000000</td>\n",
       "      <td>119.000000</td>\n",
       "      <td>1024.000000</td>\n",
       "      <td>...</td>\n",
       "      <td>0.000000</td>\n",
       "      <td>0.000000</td>\n",
       "      <td>0.000000</td>\n",
       "      <td>0.000000</td>\n",
       "      <td>0.000000</td>\n",
       "      <td>0.000000</td>\n",
       "      <td>0.000000</td>\n",
       "      <td>0.000000</td>\n",
       "      <td>0.000000</td>\n",
       "      <td>1.000000</td>\n",
       "    </tr>\n",
       "    <tr>\n",
       "      <th>50%</th>\n",
       "      <td>2996.000000</td>\n",
       "      <td>127.000000</td>\n",
       "      <td>13.000000</td>\n",
       "      <td>218.000000</td>\n",
       "      <td>30.000000</td>\n",
       "      <td>1997.000000</td>\n",
       "      <td>218.000000</td>\n",
       "      <td>226.000000</td>\n",
       "      <td>143.000000</td>\n",
       "      <td>1710.000000</td>\n",
       "      <td>...</td>\n",
       "      <td>0.000000</td>\n",
       "      <td>0.000000</td>\n",
       "      <td>0.000000</td>\n",
       "      <td>0.000000</td>\n",
       "      <td>0.000000</td>\n",
       "      <td>0.000000</td>\n",
       "      <td>0.000000</td>\n",
       "      <td>0.000000</td>\n",
       "      <td>0.000000</td>\n",
       "      <td>2.000000</td>\n",
       "    </tr>\n",
       "    <tr>\n",
       "      <th>75%</th>\n",
       "      <td>3163.000000</td>\n",
       "      <td>260.000000</td>\n",
       "      <td>18.000000</td>\n",
       "      <td>384.000000</td>\n",
       "      <td>69.000000</td>\n",
       "      <td>3328.000000</td>\n",
       "      <td>231.000000</td>\n",
       "      <td>237.000000</td>\n",
       "      <td>168.000000</td>\n",
       "      <td>2550.000000</td>\n",
       "      <td>...</td>\n",
       "      <td>0.000000</td>\n",
       "      <td>0.000000</td>\n",
       "      <td>0.000000</td>\n",
       "      <td>0.000000</td>\n",
       "      <td>0.000000</td>\n",
       "      <td>0.000000</td>\n",
       "      <td>0.000000</td>\n",
       "      <td>0.000000</td>\n",
       "      <td>0.000000</td>\n",
       "      <td>2.000000</td>\n",
       "    </tr>\n",
       "    <tr>\n",
       "      <th>max</th>\n",
       "      <td>3858.000000</td>\n",
       "      <td>360.000000</td>\n",
       "      <td>66.000000</td>\n",
       "      <td>1397.000000</td>\n",
       "      <td>601.000000</td>\n",
       "      <td>7117.000000</td>\n",
       "      <td>254.000000</td>\n",
       "      <td>254.000000</td>\n",
       "      <td>254.000000</td>\n",
       "      <td>7173.000000</td>\n",
       "      <td>...</td>\n",
       "      <td>1.000000</td>\n",
       "      <td>1.000000</td>\n",
       "      <td>1.000000</td>\n",
       "      <td>1.000000</td>\n",
       "      <td>1.000000</td>\n",
       "      <td>1.000000</td>\n",
       "      <td>1.000000</td>\n",
       "      <td>1.000000</td>\n",
       "      <td>1.000000</td>\n",
       "      <td>7.000000</td>\n",
       "    </tr>\n",
       "  </tbody>\n",
       "</table>\n",
       "<p>8 rows × 55 columns</p>\n",
       "</div>"
      ],
      "text/plain": [
       "           Elevation         Aspect          Slope  \\\n",
       "count  581012.000000  581012.000000  581012.000000   \n",
       "mean     2959.365301     155.656807      14.103704   \n",
       "std       279.984734     111.913721       7.488242   \n",
       "min      1859.000000       0.000000       0.000000   \n",
       "25%      2809.000000      58.000000       9.000000   \n",
       "50%      2996.000000     127.000000      13.000000   \n",
       "75%      3163.000000     260.000000      18.000000   \n",
       "max      3858.000000     360.000000      66.000000   \n",
       "\n",
       "       Horizontal_Distance_To_Hydrology  Vertical_Distance_To_Hydrology  \\\n",
       "count                     581012.000000                   581012.000000   \n",
       "mean                         269.428217                       46.418855   \n",
       "std                          212.549356                       58.295232   \n",
       "min                            0.000000                     -173.000000   \n",
       "25%                          108.000000                        7.000000   \n",
       "50%                          218.000000                       30.000000   \n",
       "75%                          384.000000                       69.000000   \n",
       "max                         1397.000000                      601.000000   \n",
       "\n",
       "       Horizontal_Distance_To_Roadways  Hillshade_9am  Hillshade_Noon  \\\n",
       "count                    581012.000000  581012.000000   581012.000000   \n",
       "mean                       2350.146611     212.146049      223.318716   \n",
       "std                        1559.254870      26.769889       19.768697   \n",
       "min                           0.000000       0.000000        0.000000   \n",
       "25%                        1106.000000     198.000000      213.000000   \n",
       "50%                        1997.000000     218.000000      226.000000   \n",
       "75%                        3328.000000     231.000000      237.000000   \n",
       "max                        7117.000000     254.000000      254.000000   \n",
       "\n",
       "       Hillshade_3pm  Horizontal_Distance_To_Fire_Points  ...    Soil_Type32  \\\n",
       "count  581012.000000                       581012.000000  ...  581012.000000   \n",
       "mean      142.528263                         1980.291226  ...       0.090392   \n",
       "std        38.274529                         1324.195210  ...       0.286743   \n",
       "min         0.000000                            0.000000  ...       0.000000   \n",
       "25%       119.000000                         1024.000000  ...       0.000000   \n",
       "50%       143.000000                         1710.000000  ...       0.000000   \n",
       "75%       168.000000                         2550.000000  ...       0.000000   \n",
       "max       254.000000                         7173.000000  ...       1.000000   \n",
       "\n",
       "         Soil_Type33    Soil_Type34    Soil_Type35    Soil_Type36  \\\n",
       "count  581012.000000  581012.000000  581012.000000  581012.000000   \n",
       "mean        0.077716       0.002773       0.003255       0.000205   \n",
       "std         0.267725       0.052584       0.056957       0.014310   \n",
       "min         0.000000       0.000000       0.000000       0.000000   \n",
       "25%         0.000000       0.000000       0.000000       0.000000   \n",
       "50%         0.000000       0.000000       0.000000       0.000000   \n",
       "75%         0.000000       0.000000       0.000000       0.000000   \n",
       "max         1.000000       1.000000       1.000000       1.000000   \n",
       "\n",
       "         Soil_Type37    Soil_Type38    Soil_Type39    Soil_Type40  \\\n",
       "count  581012.000000  581012.000000  581012.000000  581012.000000   \n",
       "mean        0.000513       0.026803       0.023762       0.015060   \n",
       "std         0.022641       0.161508       0.152307       0.121791   \n",
       "min         0.000000       0.000000       0.000000       0.000000   \n",
       "25%         0.000000       0.000000       0.000000       0.000000   \n",
       "50%         0.000000       0.000000       0.000000       0.000000   \n",
       "75%         0.000000       0.000000       0.000000       0.000000   \n",
       "max         1.000000       1.000000       1.000000       1.000000   \n",
       "\n",
       "          Cover_Type  \n",
       "count  581012.000000  \n",
       "mean        2.051471  \n",
       "std         1.396504  \n",
       "min         1.000000  \n",
       "25%         1.000000  \n",
       "50%         2.000000  \n",
       "75%         2.000000  \n",
       "max         7.000000  \n",
       "\n",
       "[8 rows x 55 columns]"
      ]
     },
     "execution_count": 7,
     "metadata": {},
     "output_type": "execute_result"
    }
   ],
   "source": [
    "forest_info.describe()"
   ]
  },
  {
   "cell_type": "markdown",
   "metadata": {},
   "source": [
    "This data has 54 columns, including the target variable (Cover Type). This data will be benneficial within the frame of the business case because it has the correct target variable and multiple other relevent variables to help predict the target variable. There are also 58,1012 rows of data for each variable, which is a large enoguh size to accuratley predict coverage type using a decision tree classifier."
   ]
  },
  {
   "cell_type": "markdown",
   "metadata": {},
   "source": [
    "Each variable is releveant to the business case as each variable adresses features of the Roosevelt National Park forest. "
   ]
  },
  {
   "cell_type": "markdown",
   "metadata": {},
   "source": [
    "There are 4 wilderness area type columns and 40 soil types columns that have already been encoded from their original categorical form. "
   ]
  },
  {
   "cell_type": "markdown",
   "metadata": {},
   "source": [
    "A limitation of this dataset is that the data could have more rows and more variables to ensure the most accurate cover type prediction."
   ]
  },
  {
   "cell_type": "markdown",
   "metadata": {},
   "source": [
    "There are no null values within the data. "
   ]
  },
  {
   "cell_type": "markdown",
   "metadata": {},
   "source": [
    "The last column in the dataset is the tree Cover Type. Examine this column to better understand the the target variable. "
   ]
  },
  {
   "cell_type": "code",
   "execution_count": 5,
   "metadata": {},
   "outputs": [
    {
     "data": {
      "text/plain": [
       "2    283301\n",
       "1    211840\n",
       "3     35754\n",
       "7     20510\n",
       "6     17367\n",
       "5      9493\n",
       "4      2747\n",
       "Name: Cover_Type, dtype: int64"
      ]
     },
     "execution_count": 5,
     "metadata": {},
     "output_type": "execute_result"
    }
   ],
   "source": [
    "forest_info['Cover_Type'].value_counts()"
   ]
  },
  {
   "cell_type": "markdown",
   "metadata": {},
   "source": [
    "The Cover Type column includes 7 different types of trees. There is a large class imbalance between the types of trees, with type 2 (Lodgepole Pine) having the most amount of records. To fix this, I am going to combine tree types 1, 3, 4, 5, 6, and 7 into one class and have the second class be tree type 2. This will create a binary classification problem where the Lodgepole Pine tree has 283,301 records while the other class will have 297,711 records, meaning there is no longer a class imbalance. "
   ]
  },
  {
   "cell_type": "markdown",
   "metadata": {},
   "source": [
    "## Data Preparation"
   ]
  },
  {
   "cell_type": "markdown",
   "metadata": {},
   "source": [
    "Condense tree types 2, 3, 4, 5, 6, and 7 into a single class to fix the class imbalance and create a binary classification problem. "
   ]
  },
  {
   "cell_type": "code",
   "execution_count": 6,
   "metadata": {},
   "outputs": [],
   "source": [
    "forest_info['Cover_Type'].replace(to_replace = 1, value = 0, inplace=True)\n",
    "forest_info['Cover_Type'].replace(to_replace = 3, value = 0, inplace=True)\n",
    "forest_info['Cover_Type'].replace(to_replace = 7, value = 0, inplace=True)\n",
    "forest_info['Cover_Type'].replace(to_replace = 6, value = 0, inplace=True)\n",
    "forest_info['Cover_Type'].replace(to_replace = 5, value = 0, inplace=True)\n",
    "forest_info['Cover_Type'].replace(to_replace = 4, value = 0, inplace=True)"
   ]
  },
  {
   "cell_type": "markdown",
   "metadata": {},
   "source": [
    "Check the number of records within each class to ensure there is no longer a class imbalance"
   ]
  },
  {
   "cell_type": "code",
   "execution_count": 7,
   "metadata": {},
   "outputs": [
    {
     "data": {
      "text/plain": [
       "0    297711\n",
       "2    283301\n",
       "Name: Cover_Type, dtype: int64"
      ]
     },
     "execution_count": 7,
     "metadata": {},
     "output_type": "execute_result"
    }
   ],
   "source": [
    "forest_info['Cover_Type'].value_counts()"
   ]
  },
  {
   "cell_type": "markdown",
   "metadata": {},
   "source": [
    "For clarification purposes, change type 2 tree class (Lodgepole Pine) to be represented as type 1"
   ]
  },
  {
   "cell_type": "code",
   "execution_count": 10,
   "metadata": {},
   "outputs": [],
   "source": [
    "forest_info['Cover_Type'].replace(to_replace = 2, value = 1, inplace=True)"
   ]
  },
  {
   "cell_type": "code",
   "execution_count": 11,
   "metadata": {},
   "outputs": [
    {
     "data": {
      "text/plain": [
       "0    297711\n",
       "1    283301\n",
       "Name: Cover_Type, dtype: int64"
      ]
     },
     "execution_count": 11,
     "metadata": {},
     "output_type": "execute_result"
    }
   ],
   "source": [
    "forest_info['Cover_Type'].value_counts()"
   ]
  },
  {
   "cell_type": "markdown",
   "metadata": {},
   "source": [
    "## Modeling"
   ]
  },
  {
   "cell_type": "markdown",
   "metadata": {},
   "source": [
    "I am going to use a decision tree model for this classification problem"
   ]
  },
  {
   "cell_type": "markdown",
   "metadata": {},
   "source": [
    "Define X features and y target variable (Cover Type) and split data into test and train sets. "
   ]
  },
  {
   "cell_type": "code",
   "execution_count": 12,
   "metadata": {},
   "outputs": [],
   "source": [
    "X = forest_info.drop('Cover_Type', axis=1)\n",
    "y = forest_info['Cover_Type']"
   ]
  },
  {
   "cell_type": "code",
   "execution_count": 13,
   "metadata": {},
   "outputs": [],
   "source": [
    "# create am 80/20 split for the test and train sets\n",
    "X_train, X_test, y_train, y_test = train_test_split(X, y, test_size = 0.2, random_state=10)"
   ]
  },
  {
   "cell_type": "markdown",
   "metadata": {},
   "source": [
    "Train a trimmed down precision tree that only has a max depth of 2. Plot and save a figure for this decision tree in order to create an example decision tree. We will not be using this decision tree to address the business case. "
   ]
  },
  {
   "cell_type": "code",
   "execution_count": 19,
   "metadata": {},
   "outputs": [],
   "source": [
    "pruned_DTC = DecisionTreeClassifier(criterion = 'entropy', max_depth=2)\n",
    "pruned_model = pruned_DTC.fit(X_train, y_train)\n",
    "predict_y = pruned_DTC.predict(X_test)"
   ]
  },
  {
   "cell_type": "code",
   "execution_count": 20,
   "metadata": {},
   "outputs": [
    {
     "data": {
      "image/png": "[encoded data removed]",
      "text/plain": [
       "<Figure size 432x288 with 1 Axes>"
      ]
     },
     "metadata": {
      "needs_background": "light"
     },
     "output_type": "display_data"
    }
   ],
   "source": [
    "tree.plot_tree(pruned_model)\n",
    "plt.savefig('DTC')"
   ]
  },
  {
   "cell_type": "markdown",
   "metadata": {},
   "source": [
    "Now, tain a basic decision tree model using the X and y features. Do not define max depth, min samples split, or min samples leaf in this model. Use this basic model to predict y values from the X training set. "
   ]
  },
  {
   "cell_type": "code",
   "execution_count": 140,
   "metadata": {},
   "outputs": [],
   "source": [
    "DTC = DecisionTreeClassifier(criterion = 'entropy')\n",
    "DTC_model1 = DTC.fit(X_train, y_train)"
   ]
  },
  {
   "cell_type": "code",
   "execution_count": 141,
   "metadata": {},
   "outputs": [],
   "source": [
    "m1_predict_y = DTC_model1.predict(X_test)"
   ]
  },
  {
   "cell_type": "markdown",
   "metadata": {},
   "source": [
    "Create a confusion matrix to determine the true positives, true negatives, false positives, and false negatives. "
   ]
  },
  {
   "cell_type": "code",
   "execution_count": 142,
   "metadata": {},
   "outputs": [
    {
     "data": {
      "image/png": "[encoded data removed]",
      "text/plain": [
       "<Figure size 432x288 with 2 Axes>"
      ]
     },
     "metadata": {
      "needs_background": "light"
     },
     "output_type": "display_data"
    }
   ],
   "source": [
    "plot_confusion_matrix(DTC_model1, X_test, y_test, cmap='YlGn')\n",
    "plt.savefig('original_cm')"
   ]
  },
  {
   "cell_type": "markdown",
   "metadata": {},
   "source": [
    "The number of true positives are 53,795, true negavites are 57,139, false positives are 2,644, and false negatives are 2,625.  "
   ]
  },
  {
   "cell_type": "markdown",
   "metadata": {},
   "source": [
    "Now determine the precision, recall, accruacy, and F1 of the initial model"
   ]
  },
  {
   "cell_type": "code",
   "execution_count": 144,
   "metadata": {},
   "outputs": [
    {
     "name": "stdout",
     "output_type": "stream",
     "text": [
      "Precision is :0.9536207722185766\n",
      "Recall is :0.9529953917050691\n",
      "Accuracy is :0.9546741478275087\n",
      "F1 is :0.9533079793977111\n"
     ]
    }
   ],
   "source": [
    "m1_precision = precision_score(y_test, m1_predict_y)\n",
    "print('Precision is :{0}'.format(m1_precision))\n",
    "m1_recall = recall_score(y_test, m1_predict_y)\n",
    "print('Recall is :{0}'.format(m1_recall))\n",
    "m1_accuracy = accuracy_score(y_test, m1_predict_y)\n",
    "print('Accuracy is :{0}'.format(m1_accuracy))\n",
    "m1_F1 = f1_score(y_test, m1_predict_y)\n",
    "print('F1 is :{0}'.format(m1_F1))"
   ]
  },
  {
   "cell_type": "markdown",
   "metadata": {},
   "source": [
    "This original model has a small amount of false positives and false negatives, while having a large amount of true positives and negatives. The model also performs well in precision, recall, accuracy, and F1. This original model would be effective to use in addressing the business case, however I want to tune the hyperparameters to make the best model possible. "
   ]
  },
  {
   "cell_type": "markdown",
   "metadata": {},
   "source": [
    "To start tuning hyperparameters, I will create a graph for max depth, min samples split, and min samples leaf. I will use multiple values for each hyperparamter to train a decision model tree. Then I will graph the different values of the hyperparamter against the precision, recall, accuracy, and F1 of the trained decision tree. This will help me to determine what range of values would be beneficial to use in the GridSearch."
   ]
  },
  {
   "cell_type": "code",
   "execution_count": 151,
   "metadata": {},
   "outputs": [],
   "source": [
    "depth = np.arange(25,50,2)\n",
    "precision = []\n",
    "recall = []\n",
    "accuracy = []\n",
    "F1 = []\n",
    "for n in depth:\n",
    "    DTC = DecisionTreeClassifier(criterion = 'entropy', max_depth = n)\n",
    "    DT_model = DTC.fit(X_train, y_train)\n",
    "    predict_y = DTC.predict(X_test)\n",
    "    precision.append(precision_score(y_test, predict_y))\n",
    "    recall.append(recall_score(y_test, predict_y))\n",
    "    accuracy.append(accuracy_score(y_test, predict_y))\n",
    "    F1.append(f1_score(y_test, predict_y))"
   ]
  },
  {
   "cell_type": "code",
   "execution_count": 159,
   "metadata": {},
   "outputs": [
    {
     "data": {
      "image/png": "[encoded data removed]",
      "text/plain": [
       "<Figure size 1440x144 with 4 Axes>"
      ]
     },
     "metadata": {
      "needs_background": "light"
     },
     "output_type": "display_data"
    }
   ],
   "source": [
    "plt.figure(figsize = (20,2))\n",
    "plt.subplot(141)\n",
    "plt.plot(depth, precision, 'darkgreen')\n",
    "plt.ylabel('precision')\n",
    "plt.axis([25,50,0.94,0.956])\n",
    "plt.subplot(142)\n",
    "plt.plot(depth, recall, 'springgreen')\n",
    "plt.ylabel('recall')\n",
    "plt.axis([25,50,0.94,0.956])\n",
    "plt.subplot(143)\n",
    "plt.plot(depth, accuracy, 'turquoise')\n",
    "plt.ylabel('accuracy')\n",
    "plt.axis([25,50,0.94,0.956])\n",
    "plt.subplot(144)\n",
    "plt.plot(depth, F1, 'royalblue')\n",
    "plt.ylabel('F1')\n",
    "plt.axis([25,50,0.94,0.956])\n",
    "plt.suptitle('max depth')\n",
    "plt.tight_layout()\n",
    "plt.savefig('max_depth')"
   ]
  },
  {
   "cell_type": "code",
   "execution_count": 153,
   "metadata": {},
   "outputs": [],
   "source": [
    "sample_split = np.arange(2,20)\n",
    "precision_sampsplit = []\n",
    "recall_sampsplit = []\n",
    "accuracy_sampsplit = []\n",
    "F1_sampsplit = []\n",
    "for n in sample_split:\n",
    "    DTC = DecisionTreeClassifier(criterion = 'entropy', min_samples_split = n)\n",
    "    DT_model = DTC.fit(X_train, y_train)\n",
    "    predict_y = DT_model.predict(X_test)\n",
    "    precision_sampsplit.append(precision_score(y_test, predict_y))\n",
    "    recall_sampsplit.append(recall_score(y_test, predict_y))\n",
    "    accuracy_sampsplit.append(accuracy_score(y_test, predict_y))\n",
    "    F1_sampsplit.append(f1_score(y_test, predict_y))"
   ]
  },
  {
   "cell_type": "code",
   "execution_count": 158,
   "metadata": {},
   "outputs": [
    {
     "data": {
      "image/png": "[encoded data removed]",
      "text/plain": [
       "<Figure size 1440x144 with 4 Axes>"
      ]
     },
     "metadata": {
      "needs_background": "light"
     },
     "output_type": "display_data"
    }
   ],
   "source": [
    "plt.figure(figsize = (20,2))\n",
    "plt.subplot(141)\n",
    "plt.plot(sample_split, precision_sampsplit, 'darkgreen')\n",
    "plt.ylabel('precision')\n",
    "plt.axis([2,20,0.94,0.9555])\n",
    "plt.subplot(142)\n",
    "plt.plot(sample_split, recall_sampsplit, 'springgreen')\n",
    "plt.ylabel('recall')\n",
    "plt.axis([2,20,0.94,0.9555])\n",
    "plt.subplot(143)\n",
    "plt.plot(sample_split, accuracy_sampsplit, 'turquoise')\n",
    "plt.ylabel('accuracy')\n",
    "plt.axis([2,20,0.94,0.9555])\n",
    "plt.subplot(144)\n",
    "plt.plot(sample_split, F1_sampsplit, 'royalblue')\n",
    "plt.ylabel('F1')\n",
    "plt.axis([2,20,0.94,0.9555])\n",
    "plt.suptitle('minimum samples split')\n",
    "plt.tight_layout()\n",
    "plt.savefig('min_samples_split')"
   ]
  },
  {
   "cell_type": "code",
   "execution_count": 156,
   "metadata": {},
   "outputs": [],
   "source": [
    "sample_leaf = np.arange(1,10)\n",
    "precision_sampleaf = []\n",
    "recall_sampleaf = []\n",
    "accuracy_sampleaf = []\n",
    "F1_sampleaf = []\n",
    "for n in sample_leaf:\n",
    "    DTC = DecisionTreeClassifier(criterion = 'entropy', min_samples_leaf = n)\n",
    "    DT_model = DTC.fit(X_train, y_train)\n",
    "    predict_y = DT_model.predict(X_test)\n",
    "    precision_sampleaf.append(precision_score(y_test, predict_y))\n",
    "    recall_sampleaf.append(recall_score(y_test, predict_y))\n",
    "    accuracy_sampleaf.append(accuracy_score(y_test, predict_y))\n",
    "    F1_sampleaf.append(f1_score(y_test, predict_y))"
   ]
  },
  {
   "cell_type": "code",
   "execution_count": 160,
   "metadata": {},
   "outputs": [
    {
     "data": {
      "image/png": "[encoded data removed]",
      "text/plain": [
       "<Figure size 1440x144 with 4 Axes>"
      ]
     },
     "metadata": {
      "needs_background": "light"
     },
     "output_type": "display_data"
    }
   ],
   "source": [
    "plt.figure(figsize = (20,2))\n",
    "plt.subplot(141)\n",
    "plt.plot(sample_leaf, precision_sampleaf, 'darkgreen')\n",
    "plt.ylabel('precision')\n",
    "plt.axis([2,9,0.93,0.96])\n",
    "plt.subplot(142)\n",
    "plt.plot(sample_leaf, recall_sampleaf, 'springgreen')\n",
    "plt.ylabel('recall')\n",
    "plt.axis([2,9,0.93,0.96])\n",
    "plt.subplot(143)\n",
    "plt.plot(sample_leaf, accuracy_sampleaf, 'turquoise')\n",
    "plt.ylabel('accuracy')\n",
    "plt.axis([2,9,0.93,0.96])\n",
    "plt.subplot(144)\n",
    "plt.plot(sample_leaf, F1_sampleaf, 'royalblue')\n",
    "plt.ylabel('F1')\n",
    "plt.axis([2,9,0.93,0.96])\n",
    "plt.suptitle('minimum samples leaf')\n",
    "plt.tight_layout()\n",
    "plt.savefig('min_samples_leaf')"
   ]
  },
  {
   "cell_type": "markdown",
   "metadata": {},
   "source": [
    "The max depth seems to have the best metric results between 30 and 40, minimum samples split and minumum samples leaf have the best results between 2 and 5. I will now use GridSearch to train decision trees and determine the optimal combination of values for the three hyperparameters. "
   ]
  },
  {
   "cell_type": "code",
   "execution_count": 103,
   "metadata": {},
   "outputs": [
    {
     "data": {
      "text/plain": [
       "GridSearchCV(cv=5, estimator=DecisionTreeClassifier(),\n",
       "             param_grid={'max_depth': [34, 36, 38, 40, 42, 44, 46],\n",
       "                         'min_samples_leaf': [1, 2, 3],\n",
       "                         'min_samples_split': [2, 3, 4, 5]},\n",
       "             scoring='precision')"
      ]
     },
     "execution_count": 103,
     "metadata": {},
     "output_type": "execute_result"
    }
   ],
   "source": [
    "params = {'max_depth':[34,36,38,40,42,44,46],\n",
    "         'min_samples_split':[2,3,4,5], \n",
    "          'min_samples_leaf':[1,2,3]}\n",
    "precision = precision_score(y_test, predict_y)\n",
    "gridSearch = GridSearchCV(DecisionTreeClassifier(), param_grid=params, cv=5, scoring = 'precision')\n",
    "gridSearch.fit(X_train, y_train)"
   ]
  },
  {
   "cell_type": "code",
   "execution_count": 104,
   "metadata": {},
   "outputs": [
    {
     "data": {
      "text/html": [
       "<div>\n",
       "<style scoped>\n",
       "    .dataframe tbody tr th:only-of-type {\n",
       "        vertical-align: middle;\n",
       "    }\n",
       "\n",
       "    .dataframe tbody tr th {\n",
       "        vertical-align: top;\n",
       "    }\n",
       "\n",
       "    .dataframe thead th {\n",
       "        text-align: right;\n",
       "    }\n",
       "</style>\n",
       "<table border=\"1\" class=\"dataframe\">\n",
       "  <thead>\n",
       "    <tr style=\"text-align: right;\">\n",
       "      <th></th>\n",
       "      <th>mean_fit_time</th>\n",
       "      <th>std_fit_time</th>\n",
       "      <th>mean_score_time</th>\n",
       "      <th>std_score_time</th>\n",
       "      <th>param_max_depth</th>\n",
       "      <th>param_min_samples_leaf</th>\n",
       "      <th>param_min_samples_split</th>\n",
       "      <th>params</th>\n",
       "      <th>split0_test_score</th>\n",
       "      <th>split1_test_score</th>\n",
       "      <th>split2_test_score</th>\n",
       "      <th>split3_test_score</th>\n",
       "      <th>split4_test_score</th>\n",
       "      <th>mean_test_score</th>\n",
       "      <th>std_test_score</th>\n",
       "      <th>rank_test_score</th>\n",
       "    </tr>\n",
       "  </thead>\n",
       "  <tbody>\n",
       "    <tr>\n",
       "      <th>0</th>\n",
       "      <td>9.657304</td>\n",
       "      <td>0.222246</td>\n",
       "      <td>0.118865</td>\n",
       "      <td>0.030469</td>\n",
       "      <td>34</td>\n",
       "      <td>1</td>\n",
       "      <td>2</td>\n",
       "      <td>{'max_depth': 34, 'min_samples_leaf': 1, 'min_...</td>\n",
       "      <td>0.941158</td>\n",
       "      <td>0.941679</td>\n",
       "      <td>0.942714</td>\n",
       "      <td>0.941874</td>\n",
       "      <td>0.943557</td>\n",
       "      <td>0.942196</td>\n",
       "      <td>0.000845</td>\n",
       "      <td>56</td>\n",
       "    </tr>\n",
       "    <tr>\n",
       "      <th>1</th>\n",
       "      <td>9.519866</td>\n",
       "      <td>0.253212</td>\n",
       "      <td>0.133647</td>\n",
       "      <td>0.020216</td>\n",
       "      <td>34</td>\n",
       "      <td>1</td>\n",
       "      <td>3</td>\n",
       "      <td>{'max_depth': 34, 'min_samples_leaf': 1, 'min_...</td>\n",
       "      <td>0.942239</td>\n",
       "      <td>0.943747</td>\n",
       "      <td>0.945033</td>\n",
       "      <td>0.943149</td>\n",
       "      <td>0.945269</td>\n",
       "      <td>0.943887</td>\n",
       "      <td>0.001140</td>\n",
       "      <td>35</td>\n",
       "    </tr>\n",
       "    <tr>\n",
       "      <th>2</th>\n",
       "      <td>9.579629</td>\n",
       "      <td>0.257456</td>\n",
       "      <td>0.115183</td>\n",
       "      <td>0.011845</td>\n",
       "      <td>34</td>\n",
       "      <td>1</td>\n",
       "      <td>4</td>\n",
       "      <td>{'max_depth': 34, 'min_samples_leaf': 1, 'min_...</td>\n",
       "      <td>0.942674</td>\n",
       "      <td>0.942197</td>\n",
       "      <td>0.943742</td>\n",
       "      <td>0.943021</td>\n",
       "      <td>0.945128</td>\n",
       "      <td>0.943352</td>\n",
       "      <td>0.001021</td>\n",
       "      <td>41</td>\n",
       "    </tr>\n",
       "    <tr>\n",
       "      <th>3</th>\n",
       "      <td>9.526788</td>\n",
       "      <td>0.082687</td>\n",
       "      <td>0.115977</td>\n",
       "      <td>0.011815</td>\n",
       "      <td>34</td>\n",
       "      <td>1</td>\n",
       "      <td>5</td>\n",
       "      <td>{'max_depth': 34, 'min_samples_leaf': 1, 'min_...</td>\n",
       "      <td>0.941485</td>\n",
       "      <td>0.942311</td>\n",
       "      <td>0.944374</td>\n",
       "      <td>0.942917</td>\n",
       "      <td>0.944185</td>\n",
       "      <td>0.943054</td>\n",
       "      <td>0.001100</td>\n",
       "      <td>49</td>\n",
       "    </tr>\n",
       "    <tr>\n",
       "      <th>4</th>\n",
       "      <td>9.515981</td>\n",
       "      <td>0.119211</td>\n",
       "      <td>0.118877</td>\n",
       "      <td>0.013190</td>\n",
       "      <td>34</td>\n",
       "      <td>2</td>\n",
       "      <td>2</td>\n",
       "      <td>{'max_depth': 34, 'min_samples_leaf': 2, 'min_...</td>\n",
       "      <td>0.946610</td>\n",
       "      <td>0.946824</td>\n",
       "      <td>0.948646</td>\n",
       "      <td>0.947248</td>\n",
       "      <td>0.950116</td>\n",
       "      <td>0.947889</td>\n",
       "      <td>0.001320</td>\n",
       "      <td>26</td>\n",
       "    </tr>\n",
       "    <tr>\n",
       "      <th>...</th>\n",
       "      <td>...</td>\n",
       "      <td>...</td>\n",
       "      <td>...</td>\n",
       "      <td>...</td>\n",
       "      <td>...</td>\n",
       "      <td>...</td>\n",
       "      <td>...</td>\n",
       "      <td>...</td>\n",
       "      <td>...</td>\n",
       "      <td>...</td>\n",
       "      <td>...</td>\n",
       "      <td>...</td>\n",
       "      <td>...</td>\n",
       "      <td>...</td>\n",
       "      <td>...</td>\n",
       "      <td>...</td>\n",
       "    </tr>\n",
       "    <tr>\n",
       "      <th>79</th>\n",
       "      <td>9.580378</td>\n",
       "      <td>0.105567</td>\n",
       "      <td>0.122919</td>\n",
       "      <td>0.003998</td>\n",
       "      <td>46</td>\n",
       "      <td>2</td>\n",
       "      <td>5</td>\n",
       "      <td>{'max_depth': 46, 'min_samples_leaf': 2, 'min_...</td>\n",
       "      <td>0.946503</td>\n",
       "      <td>0.947409</td>\n",
       "      <td>0.948649</td>\n",
       "      <td>0.947416</td>\n",
       "      <td>0.950028</td>\n",
       "      <td>0.948001</td>\n",
       "      <td>0.001222</td>\n",
       "      <td>22</td>\n",
       "    </tr>\n",
       "    <tr>\n",
       "      <th>80</th>\n",
       "      <td>9.327115</td>\n",
       "      <td>0.180030</td>\n",
       "      <td>0.119191</td>\n",
       "      <td>0.020711</td>\n",
       "      <td>46</td>\n",
       "      <td>3</td>\n",
       "      <td>2</td>\n",
       "      <td>{'max_depth': 46, 'min_samples_leaf': 3, 'min_...</td>\n",
       "      <td>0.939161</td>\n",
       "      <td>0.939263</td>\n",
       "      <td>0.941471</td>\n",
       "      <td>0.940898</td>\n",
       "      <td>0.941160</td>\n",
       "      <td>0.940391</td>\n",
       "      <td>0.000980</td>\n",
       "      <td>81</td>\n",
       "    </tr>\n",
       "    <tr>\n",
       "      <th>81</th>\n",
       "      <td>9.400070</td>\n",
       "      <td>0.142850</td>\n",
       "      <td>0.110120</td>\n",
       "      <td>0.007632</td>\n",
       "      <td>46</td>\n",
       "      <td>3</td>\n",
       "      <td>3</td>\n",
       "      <td>{'max_depth': 46, 'min_samples_leaf': 3, 'min_...</td>\n",
       "      <td>0.939770</td>\n",
       "      <td>0.939225</td>\n",
       "      <td>0.941732</td>\n",
       "      <td>0.941089</td>\n",
       "      <td>0.941040</td>\n",
       "      <td>0.940571</td>\n",
       "      <td>0.000926</td>\n",
       "      <td>71</td>\n",
       "    </tr>\n",
       "    <tr>\n",
       "      <th>82</th>\n",
       "      <td>9.533595</td>\n",
       "      <td>0.044813</td>\n",
       "      <td>0.127387</td>\n",
       "      <td>0.008788</td>\n",
       "      <td>46</td>\n",
       "      <td>3</td>\n",
       "      <td>4</td>\n",
       "      <td>{'max_depth': 46, 'min_samples_leaf': 3, 'min_...</td>\n",
       "      <td>0.939616</td>\n",
       "      <td>0.939198</td>\n",
       "      <td>0.941316</td>\n",
       "      <td>0.941824</td>\n",
       "      <td>0.941728</td>\n",
       "      <td>0.940736</td>\n",
       "      <td>0.001107</td>\n",
       "      <td>60</td>\n",
       "    </tr>\n",
       "    <tr>\n",
       "      <th>83</th>\n",
       "      <td>9.454152</td>\n",
       "      <td>0.200260</td>\n",
       "      <td>0.119134</td>\n",
       "      <td>0.018909</td>\n",
       "      <td>46</td>\n",
       "      <td>3</td>\n",
       "      <td>5</td>\n",
       "      <td>{'max_depth': 46, 'min_samples_leaf': 3, 'min_...</td>\n",
       "      <td>0.939932</td>\n",
       "      <td>0.939135</td>\n",
       "      <td>0.941255</td>\n",
       "      <td>0.941180</td>\n",
       "      <td>0.942049</td>\n",
       "      <td>0.940710</td>\n",
       "      <td>0.001039</td>\n",
       "      <td>61</td>\n",
       "    </tr>\n",
       "  </tbody>\n",
       "</table>\n",
       "<p>84 rows × 16 columns</p>\n",
       "</div>"
      ],
      "text/plain": [
       "    mean_fit_time  std_fit_time  mean_score_time  std_score_time  \\\n",
       "0        9.657304      0.222246         0.118865        0.030469   \n",
       "1        9.519866      0.253212         0.133647        0.020216   \n",
       "2        9.579629      0.257456         0.115183        0.011845   \n",
       "3        9.526788      0.082687         0.115977        0.011815   \n",
       "4        9.515981      0.119211         0.118877        0.013190   \n",
       "..            ...           ...              ...             ...   \n",
       "79       9.580378      0.105567         0.122919        0.003998   \n",
       "80       9.327115      0.180030         0.119191        0.020711   \n",
       "81       9.400070      0.142850         0.110120        0.007632   \n",
       "82       9.533595      0.044813         0.127387        0.008788   \n",
       "83       9.454152      0.200260         0.119134        0.018909   \n",
       "\n",
       "   param_max_depth param_min_samples_leaf param_min_samples_split  \\\n",
       "0               34                      1                       2   \n",
       "1               34                      1                       3   \n",
       "2               34                      1                       4   \n",
       "3               34                      1                       5   \n",
       "4               34                      2                       2   \n",
       "..             ...                    ...                     ...   \n",
       "79              46                      2                       5   \n",
       "80              46                      3                       2   \n",
       "81              46                      3                       3   \n",
       "82              46                      3                       4   \n",
       "83              46                      3                       5   \n",
       "\n",
       "                                               params  split0_test_score  \\\n",
       "0   {'max_depth': 34, 'min_samples_leaf': 1, 'min_...           0.941158   \n",
       "1   {'max_depth': 34, 'min_samples_leaf': 1, 'min_...           0.942239   \n",
       "2   {'max_depth': 34, 'min_samples_leaf': 1, 'min_...           0.942674   \n",
       "3   {'max_depth': 34, 'min_samples_leaf': 1, 'min_...           0.941485   \n",
       "4   {'max_depth': 34, 'min_samples_leaf': 2, 'min_...           0.946610   \n",
       "..                                                ...                ...   \n",
       "79  {'max_depth': 46, 'min_samples_leaf': 2, 'min_...           0.946503   \n",
       "80  {'max_depth': 46, 'min_samples_leaf': 3, 'min_...           0.939161   \n",
       "81  {'max_depth': 46, 'min_samples_leaf': 3, 'min_...           0.939770   \n",
       "82  {'max_depth': 46, 'min_samples_leaf': 3, 'min_...           0.939616   \n",
       "83  {'max_depth': 46, 'min_samples_leaf': 3, 'min_...           0.939932   \n",
       "\n",
       "    split1_test_score  split2_test_score  split3_test_score  \\\n",
       "0            0.941679           0.942714           0.941874   \n",
       "1            0.943747           0.945033           0.943149   \n",
       "2            0.942197           0.943742           0.943021   \n",
       "3            0.942311           0.944374           0.942917   \n",
       "4            0.946824           0.948646           0.947248   \n",
       "..                ...                ...                ...   \n",
       "79           0.947409           0.948649           0.947416   \n",
       "80           0.939263           0.941471           0.940898   \n",
       "81           0.939225           0.941732           0.941089   \n",
       "82           0.939198           0.941316           0.941824   \n",
       "83           0.939135           0.941255           0.941180   \n",
       "\n",
       "    split4_test_score  mean_test_score  std_test_score  rank_test_score  \n",
       "0            0.943557         0.942196        0.000845               56  \n",
       "1            0.945269         0.943887        0.001140               35  \n",
       "2            0.945128         0.943352        0.001021               41  \n",
       "3            0.944185         0.943054        0.001100               49  \n",
       "4            0.950116         0.947889        0.001320               26  \n",
       "..                ...              ...             ...              ...  \n",
       "79           0.950028         0.948001        0.001222               22  \n",
       "80           0.941160         0.940391        0.000980               81  \n",
       "81           0.941040         0.940571        0.000926               71  \n",
       "82           0.941728         0.940736        0.001107               60  \n",
       "83           0.942049         0.940710        0.001039               61  \n",
       "\n",
       "[84 rows x 16 columns]"
      ]
     },
     "execution_count": 104,
     "metadata": {},
     "output_type": "execute_result"
    }
   ],
   "source": [
    "GS_results = pd.DataFrame(gridSearch.cv_results_)\n",
    "GS_results"
   ]
  },
  {
   "cell_type": "markdown",
   "metadata": {},
   "source": [
    "Sort the results of the GridSearch to determine which values to use for each hyperparamter"
   ]
  },
  {
   "cell_type": "code",
   "execution_count": 106,
   "metadata": {},
   "outputs": [
    {
     "data": {
      "text/html": [
       "<div>\n",
       "<style scoped>\n",
       "    .dataframe tbody tr th:only-of-type {\n",
       "        vertical-align: middle;\n",
       "    }\n",
       "\n",
       "    .dataframe tbody tr th {\n",
       "        vertical-align: top;\n",
       "    }\n",
       "\n",
       "    .dataframe thead th {\n",
       "        text-align: right;\n",
       "    }\n",
       "</style>\n",
       "<table border=\"1\" class=\"dataframe\">\n",
       "  <thead>\n",
       "    <tr style=\"text-align: right;\">\n",
       "      <th></th>\n",
       "      <th>mean_fit_time</th>\n",
       "      <th>std_fit_time</th>\n",
       "      <th>mean_score_time</th>\n",
       "      <th>std_score_time</th>\n",
       "      <th>param_max_depth</th>\n",
       "      <th>param_min_samples_leaf</th>\n",
       "      <th>param_min_samples_split</th>\n",
       "      <th>params</th>\n",
       "      <th>split0_test_score</th>\n",
       "      <th>split1_test_score</th>\n",
       "      <th>split2_test_score</th>\n",
       "      <th>split3_test_score</th>\n",
       "      <th>split4_test_score</th>\n",
       "      <th>mean_test_score</th>\n",
       "      <th>std_test_score</th>\n",
       "      <th>rank_test_score</th>\n",
       "    </tr>\n",
       "  </thead>\n",
       "  <tbody>\n",
       "    <tr>\n",
       "      <th>78</th>\n",
       "      <td>9.528765</td>\n",
       "      <td>0.181229</td>\n",
       "      <td>0.114761</td>\n",
       "      <td>0.023597</td>\n",
       "      <td>46</td>\n",
       "      <td>2</td>\n",
       "      <td>4</td>\n",
       "      <td>{'max_depth': 46, 'min_samples_leaf': 2, 'min_...</td>\n",
       "      <td>0.947573</td>\n",
       "      <td>0.947459</td>\n",
       "      <td>0.949008</td>\n",
       "      <td>0.948414</td>\n",
       "      <td>0.949727</td>\n",
       "      <td>0.948436</td>\n",
       "      <td>0.000860</td>\n",
       "      <td>1</td>\n",
       "    </tr>\n",
       "    <tr>\n",
       "      <th>65</th>\n",
       "      <td>9.596012</td>\n",
       "      <td>0.222392</td>\n",
       "      <td>0.128648</td>\n",
       "      <td>0.032346</td>\n",
       "      <td>44</td>\n",
       "      <td>2</td>\n",
       "      <td>3</td>\n",
       "      <td>{'max_depth': 44, 'min_samples_leaf': 2, 'min_...</td>\n",
       "      <td>0.947406</td>\n",
       "      <td>0.947683</td>\n",
       "      <td>0.948951</td>\n",
       "      <td>0.948236</td>\n",
       "      <td>0.949902</td>\n",
       "      <td>0.948436</td>\n",
       "      <td>0.000904</td>\n",
       "      <td>2</td>\n",
       "    </tr>\n",
       "    <tr>\n",
       "      <th>54</th>\n",
       "      <td>9.336751</td>\n",
       "      <td>0.123530</td>\n",
       "      <td>0.105799</td>\n",
       "      <td>0.015977</td>\n",
       "      <td>42</td>\n",
       "      <td>2</td>\n",
       "      <td>4</td>\n",
       "      <td>{'max_depth': 42, 'min_samples_leaf': 2, 'min_...</td>\n",
       "      <td>0.947244</td>\n",
       "      <td>0.947901</td>\n",
       "      <td>0.948610</td>\n",
       "      <td>0.949148</td>\n",
       "      <td>0.949205</td>\n",
       "      <td>0.948422</td>\n",
       "      <td>0.000753</td>\n",
       "      <td>3</td>\n",
       "    </tr>\n",
       "    <tr>\n",
       "      <th>77</th>\n",
       "      <td>9.546455</td>\n",
       "      <td>0.195149</td>\n",
       "      <td>0.127424</td>\n",
       "      <td>0.014101</td>\n",
       "      <td>46</td>\n",
       "      <td>2</td>\n",
       "      <td>3</td>\n",
       "      <td>{'max_depth': 46, 'min_samples_leaf': 2, 'min_...</td>\n",
       "      <td>0.947150</td>\n",
       "      <td>0.947701</td>\n",
       "      <td>0.949317</td>\n",
       "      <td>0.948108</td>\n",
       "      <td>0.949707</td>\n",
       "      <td>0.948397</td>\n",
       "      <td>0.000968</td>\n",
       "      <td>4</td>\n",
       "    </tr>\n",
       "    <tr>\n",
       "      <th>30</th>\n",
       "      <td>9.530850</td>\n",
       "      <td>0.173086</td>\n",
       "      <td>0.106358</td>\n",
       "      <td>0.016102</td>\n",
       "      <td>38</td>\n",
       "      <td>2</td>\n",
       "      <td>4</td>\n",
       "      <td>{'max_depth': 38, 'min_samples_leaf': 2, 'min_...</td>\n",
       "      <td>0.947195</td>\n",
       "      <td>0.947350</td>\n",
       "      <td>0.949011</td>\n",
       "      <td>0.948140</td>\n",
       "      <td>0.950106</td>\n",
       "      <td>0.948360</td>\n",
       "      <td>0.001086</td>\n",
       "      <td>5</td>\n",
       "    </tr>\n",
       "  </tbody>\n",
       "</table>\n",
       "</div>"
      ],
      "text/plain": [
       "    mean_fit_time  std_fit_time  mean_score_time  std_score_time  \\\n",
       "78       9.528765      0.181229         0.114761        0.023597   \n",
       "65       9.596012      0.222392         0.128648        0.032346   \n",
       "54       9.336751      0.123530         0.105799        0.015977   \n",
       "77       9.546455      0.195149         0.127424        0.014101   \n",
       "30       9.530850      0.173086         0.106358        0.016102   \n",
       "\n",
       "   param_max_depth param_min_samples_leaf param_min_samples_split  \\\n",
       "78              46                      2                       4   \n",
       "65              44                      2                       3   \n",
       "54              42                      2                       4   \n",
       "77              46                      2                       3   \n",
       "30              38                      2                       4   \n",
       "\n",
       "                                               params  split0_test_score  \\\n",
       "78  {'max_depth': 46, 'min_samples_leaf': 2, 'min_...           0.947573   \n",
       "65  {'max_depth': 44, 'min_samples_leaf': 2, 'min_...           0.947406   \n",
       "54  {'max_depth': 42, 'min_samples_leaf': 2, 'min_...           0.947244   \n",
       "77  {'max_depth': 46, 'min_samples_leaf': 2, 'min_...           0.947150   \n",
       "30  {'max_depth': 38, 'min_samples_leaf': 2, 'min_...           0.947195   \n",
       "\n",
       "    split1_test_score  split2_test_score  split3_test_score  \\\n",
       "78           0.947459           0.949008           0.948414   \n",
       "65           0.947683           0.948951           0.948236   \n",
       "54           0.947901           0.948610           0.949148   \n",
       "77           0.947701           0.949317           0.948108   \n",
       "30           0.947350           0.949011           0.948140   \n",
       "\n",
       "    split4_test_score  mean_test_score  std_test_score  rank_test_score  \n",
       "78           0.949727         0.948436        0.000860                1  \n",
       "65           0.949902         0.948436        0.000904                2  \n",
       "54           0.949205         0.948422        0.000753                3  \n",
       "77           0.949707         0.948397        0.000968                4  \n",
       "30           0.950106         0.948360        0.001086                5  "
      ]
     },
     "execution_count": 106,
     "metadata": {},
     "output_type": "execute_result"
    }
   ],
   "source": [
    "GS_results.sort_values('rank_test_score').head()"
   ]
  },
  {
   "cell_type": "markdown",
   "metadata": {},
   "source": [
    "Based on the results of the gridsearch, max depth should be 46, min samples split should be 2 and min samples leaf should be 4. Train a decision tree model with these values."
   ]
  },
  {
   "cell_type": "code",
   "execution_count": 117,
   "metadata": {},
   "outputs": [],
   "source": [
    "updated_DTC = DecisionTreeClassifier(criterion = 'entropy', max_depth=46, min_samples_split=2, min_samples_leaf=4)\n",
    "model2 = updated_DTC.fit(X_train, y_train)"
   ]
  },
  {
   "cell_type": "code",
   "execution_count": 118,
   "metadata": {},
   "outputs": [],
   "source": [
    "m2_predict_y = model2.predict(X_test)"
   ]
  },
  {
   "cell_type": "markdown",
   "metadata": {},
   "source": [
    "based on the new decision tree model, create a confusion matrix."
   ]
  },
  {
   "cell_type": "code",
   "execution_count": 121,
   "metadata": {},
   "outputs": [
    {
     "data": {
      "image/png": "[encoded data removed]",
      "text/plain": [
       "<Figure size 432x288 with 2 Axes>"
      ]
     },
     "metadata": {
      "needs_background": "light"
     },
     "output_type": "display_data"
    }
   ],
   "source": [
    "m2_cm = (confusion_matrix(y_test, m2_predict_y))\n",
    "plot_confusion_matrix(model2, X_test, y_test, cmap='YlGn')\n",
    "plt.savefig('secondary_cm')"
   ]
  },
  {
   "cell_type": "markdown",
   "metadata": {},
   "source": [
    "Determine the evaluation metrics for the new decision tree model. "
   ]
  },
  {
   "cell_type": "code",
   "execution_count": 122,
   "metadata": {},
   "outputs": [
    {
     "name": "stdout",
     "output_type": "stream",
     "text": [
      "Precision is :0.9524432418872184\n",
      "Recall is :0.9420950017724211\n",
      "Accuracy is :0.9490460659363356\n",
      "F1 is :0.9472408600425923\n"
     ]
    }
   ],
   "source": [
    "m2_precision = precision_score(y_test, m2_predict_y)\n",
    "print('Precision is :{0}'.format(m2_precision))\n",
    "m2_recall = recall_score(y_test, m2_predict_y)\n",
    "print('Recall is :{0}'.format(m2_recall))\n",
    "m2_accuracy = accuracy_score(y_test, m2_predict_y)\n",
    "print('Accuracy is :{0}'.format(m2_accuracy))\n",
    "m2_F1 = f1_score(y_test, m2_predict_y)\n",
    "print('F1 is :{0}'.format(m2_F1))"
   ]
  },
  {
   "cell_type": "markdown",
   "metadata": {},
   "source": [
    "## Evaluation"
   ]
  },
  {
   "cell_type": "markdown",
   "metadata": {},
   "source": [
    "The confusion matrix and evaluation metrics for the first model:"
   ]
  },
  {
   "cell_type": "code",
   "execution_count": 143,
   "metadata": {},
   "outputs": [
    {
     "data": {
      "text/plain": [
       "<sklearn.metrics._plot.confusion_matrix.ConfusionMatrixDisplay at 0x2429ce8cd30>"
      ]
     },
     "execution_count": 143,
     "metadata": {},
     "output_type": "execute_result"
    },
    {
     "data": {
      "image/png": "[encoded data removed]",
      "text/plain": [
       "<Figure size 432x288 with 2 Axes>"
      ]
     },
     "metadata": {
      "needs_background": "light"
     },
     "output_type": "display_data"
    }
   ],
   "source": [
    "plot_confusion_matrix(DTC_model1, X_test, y_test, cmap='YlGn')"
   ]
  },
  {
   "cell_type": "code",
   "execution_count": 149,
   "metadata": {},
   "outputs": [
    {
     "name": "stdout",
     "output_type": "stream",
     "text": [
      "Precision is :95.36207722185766\n",
      "Recall is :95.2995391705069\n",
      "Accuracy is :95.46741478275086\n",
      "F1 is :95.3307979397711\n"
     ]
    }
   ],
   "source": [
    "print('Precision is :{0}'.format(m1_precision*100))\n",
    "print('Recall is :{0}'.format(m1_recall*100))\n",
    "print('Accuracy is :{0}'.format(m1_accuracy*100))\n",
    "print('F1 is :{0}'.format(m1_F1*100))"
   ]
  },
  {
   "cell_type": "markdown",
   "metadata": {},
   "source": [
    "The confusion matrix and evaluation metrics for the second model is:"
   ]
  },
  {
   "cell_type": "code",
   "execution_count": 134,
   "metadata": {},
   "outputs": [
    {
     "data": {
      "text/plain": [
       "<sklearn.metrics._plot.confusion_matrix.ConfusionMatrixDisplay at 0x2429a8166d0>"
      ]
     },
     "execution_count": 134,
     "metadata": {},
     "output_type": "execute_result"
    },
    {
     "data": {
      "image/png": "[encoded data removed]",
      "text/plain": [
       "<Figure size 432x288 with 2 Axes>"
      ]
     },
     "metadata": {
      "needs_background": "light"
     },
     "output_type": "display_data"
    }
   ],
   "source": [
    "plot_confusion_matrix(model2, X_test, y_test, cmap='YlGn')"
   ]
  },
  {
   "cell_type": "code",
   "execution_count": 150,
   "metadata": {},
   "outputs": [
    {
     "name": "stdout",
     "output_type": "stream",
     "text": [
      "Precision is :95.24432418872183\n",
      "Recall is :94.2095001772421\n",
      "Accuracy is :94.90460659363356\n",
      "F1 is :94.72408600425923\n"
     ]
    }
   ],
   "source": [
    "print('Precision is :{0}'.format(m2_precision*100))\n",
    "print('Recall is :{0}'.format(m2_recall*100))\n",
    "print('Accuracy is :{0}'.format(m2_accuracy*100))\n",
    "print('F1 is :{0}'.format(m2_F1*100))"
   ]
  },
  {
   "cell_type": "markdown",
   "metadata": {},
   "source": [
    "model 1 has 39 more true negatives and 615 more true positives than model 2. It also has 39 less false positives and 615 less false negatives than model 2. Model 1's precision is 95.36%, recall is 95.30%, accuracy is 95.47%, and F1 is 95.33%. Model 2's precision is 95.24%, recall is 94.21%, accuracy is 94.90%, and F1 is 94.72%. "
   ]
  },
  {
   "cell_type": "markdown",
   "metadata": {},
   "source": [
    "While both models perform well, model 1 performs best throughout all four metrics. \n",
    "\n",
    "The Bureau of Land Management should use model 1 to to predict if trees are Lodepole Pine trees within the Roosevelt National Park forest. "
   ]
  },
  {
   "cell_type": "code",
   "execution_count": null,
   "metadata": {},
   "outputs": [],
   "source": []
  }
 ],
 "metadata": {
  "kernelspec": {
   "display_name": "Python (learn-env)",
   "language": "python",
   "name": "learn-env"
  },
  "language_info": {
   "codemirror_mode": {
    "name": "ipython",
    "version": 3
   },
   "file_extension": ".py",
   "mimetype": "text/x-python",
   "name": "python",
   "nbconvert_exporter": "python",
   "pygments_lexer": "ipython3",
   "version": "3.8.5"
  }
 },
 "nbformat": 4,
 "nbformat_minor": 4
}
